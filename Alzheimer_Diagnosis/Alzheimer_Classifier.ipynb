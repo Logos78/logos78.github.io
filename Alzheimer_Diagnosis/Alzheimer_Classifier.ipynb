{
 "cells": [
  {
   "cell_type": "markdown",
   "metadata": {
    "collapsed": true
   },
   "source": [
    "# Alzheimer's Disease prediction\n",
    "\n",
    "The dataset has been obtained out of the ADNI (Alzheimer's Disease Neuroimaging Initiative) datasets. \n",
    "During the course of Alzheimer's disease, people that are first cognitively normal (Label : CN) start having mild cognitive impairments (Label : MCI) before the conversion to Alzheimer's disease (Label : AD).\n",
    "\n",
    "The dataset is said to be \"longitudinal\" because patient there are multiple visits per patients which results in multiple rows per patients.\n",
    "\n",
    "### Columns : \n",
    "\n",
    "- \"DXCHANGE\" : diagnosis of the patient at the corresponding visits. 1 corresponds to  CN, 2 is MCI and 3 is AD.\n",
    "- \"RID\" and \"PTID\" correspond to two different identification number for each patient. As some patients have been seen multiple times, there are represented by multiple lines in the dataset\n",
    "- \"VISCODE\" corresponds to the visit number. The first one is \"bl\" (standing for _baseline_) while the other are encoded as \"m#\" where \"#\" is an number that corresponds to the number of month after the baseline. For instance, \"m36\" means that the visit occured 36 months after the baseline.\n",
    "- \"EXAMDATE\" corresponds to the date at the examination.\n",
    "- \"AGE\" corresponds to the age AT BASELINE. The age at any visit can be computed from the AGE at baseline and EXAMDATEs\n",
    "- Some cofactors : 'PTGENDER' -> the gender, 'PTEDUCAT'-> Number of education in years, 'PTMARRY' -> Marital status. 'APOE' -> number of the APOE-epsilon4 genetic mutations which is related to Alzheimer's disease.\n",
    "- Some cognitive tests : 'CDRSB', 'ADAS11', 'ADAS13', 'MMSE', 'RAVLT_immediate', 'RAVLT_learning', 'RAVLT_forgetting', 'RAVLT_perc_forgetting', 'FAQ', 'MOCA'.\n",
    "- Some imaging variables : 'Ventricles', 'Hippocampus', 'WholeBrain', 'Entorhinal', 'Fusiform', 'MidTemp', 'ICV' where 'ICV' is the total brain volume.\n",
    "- Radioactive tracers : 'FDG', 'PIB', 'AV45'\n",
    "\n",
    "The previous columns are predominantly used by the community. There are way more columns in the dataset that you are free to investigate.\n",
    "\n",
    "NB: There are missing values.\n",
    "\n",
    "\n",
    "### Tasks\n",
    "\n",
    "This notebook offers different tasks to tackle - it is not required to do them all, nor to do them in order. It is simply intended to check your abilities in different settings, from conventional Machine Learning to developping your own ideas. It is clearly prefered to have one task well completed rather than exploring different without significant conclusions.\n",
    "\n",
    "### Remarks\n",
    "\n",
    "While exploring and experimenting, you might need to dig into the data. If so, do not hesitate to let your experiments and comment them for the sake of clarity, so that we better understand what you are doing and how you are doing it.\n",
    "\n",
    "\n",
    "### Evaluation\n",
    "\n",
    "There are no rigid evaluation of your work, but we will inevitably look at :\n",
    "- your performance on the different tasks, how you obtained your best performance and potentially the comparison between different techniques\n",
    "- the consistency and correctness of the method and evaluation techniques you use\n",
    "- your coding experience\n",
    "- your ability to explain what you are doing\n",
    "- the conclusions you draw from the different tasks\n",
    "- your ability to explore and propose your own ideas.\n",
    "\n",
    "\n",
    "### Minor comments \n",
    "\n",
    "We prefer library as pandas, numpy and scikit-learn to start with as they provide numerous functions and tools to do the job, but you are free to use other Python package."
   ]
  },
  {
   "cell_type": "code",
   "execution_count": 1,
   "metadata": {},
   "outputs": [],
   "source": [
    "import pandas as pd\n",
    "import sklearn as sk\n",
    "import matplotlib.pyplot as plt\n",
    "import numpy as np"
   ]
  },
  {
   "cell_type": "markdown",
   "metadata": {},
   "source": [
    "# Preprocessing"
   ]
  },
  {
   "cell_type": "markdown",
   "metadata": {},
   "source": [
    "Let's begin by importing the dataset and removing useless columns."
   ]
  },
  {
   "cell_type": "code",
   "execution_count": 2,
   "metadata": {},
   "outputs": [
    {
     "name": "stderr",
     "output_type": "stream",
     "text": [
      "C:\\Users\\Geoffrey\\Anaconda3\\lib\\site-packages\\IPython\\core\\interactiveshell.py:3058: DtypeWarning: Columns (47,48,473,475,476,489,490,491,492,493,494,495,496,497,498,499,500,501) have mixed types. Specify dtype option on import or set low_memory=False.\n",
      "  interactivity=interactivity, compiler=compiler, result=result)\n"
     ]
    },
    {
     "data": {
      "text/html": [
       "<div>\n",
       "<style scoped>\n",
       "    .dataframe tbody tr th:only-of-type {\n",
       "        vertical-align: middle;\n",
       "    }\n",
       "\n",
       "    .dataframe tbody tr th {\n",
       "        vertical-align: top;\n",
       "    }\n",
       "\n",
       "    .dataframe thead th {\n",
       "        text-align: right;\n",
       "    }\n",
       "</style>\n",
       "<table border=\"1\" class=\"dataframe\">\n",
       "  <thead>\n",
       "    <tr style=\"text-align: right;\">\n",
       "      <th></th>\n",
       "      <th>Unnamed: 0</th>\n",
       "      <th>Unnamed: 0.1</th>\n",
       "      <th>RID</th>\n",
       "      <th>PTID</th>\n",
       "      <th>VISCODE</th>\n",
       "      <th>SITE</th>\n",
       "      <th>D1</th>\n",
       "      <th>D2</th>\n",
       "      <th>COLPROT</th>\n",
       "      <th>ORIGPROT</th>\n",
       "      <th>...</th>\n",
       "      <th>ST102TA_UCSFFSX_11_02_15_UCSFFSX51_08_01_16</th>\n",
       "      <th>ST102TS_UCSFFSX_11_02_15_UCSFFSX51_08_01_16</th>\n",
       "      <th>ST103CV_UCSFFSX_11_02_15_UCSFFSX51_08_01_16</th>\n",
       "      <th>ST103SA_UCSFFSX_11_02_15_UCSFFSX51_08_01_16</th>\n",
       "      <th>ST103TA_UCSFFSX_11_02_15_UCSFFSX51_08_01_16</th>\n",
       "      <th>ST103TS_UCSFFSX_11_02_15_UCSFFSX51_08_01_16</th>\n",
       "      <th>ST104CV_UCSFFSX_11_02_15_UCSFFSX51_08_01_16</th>\n",
       "      <th>ST104SA_UCSFFSX_11_02_15_UCSFFSX51_08_01_16</th>\n",
       "      <th>ST104TA_UCSFFSX_11_02_15_UCSFFSX51_08_01_16</th>\n",
       "      <th>ST104TS_UCSFFSX_11_02_15_UCSFFSX51_08_01_16</th>\n",
       "    </tr>\n",
       "  </thead>\n",
       "  <tbody>\n",
       "    <tr>\n",
       "      <td>0</td>\n",
       "      <td>0</td>\n",
       "      <td>0</td>\n",
       "      <td>2</td>\n",
       "      <td>011_S_0002</td>\n",
       "      <td>bl</td>\n",
       "      <td>11</td>\n",
       "      <td>1</td>\n",
       "      <td>1</td>\n",
       "      <td>ADNI1</td>\n",
       "      <td>ADNI1</td>\n",
       "      <td>...</td>\n",
       "      <td>2.332</td>\n",
       "      <td>0.738</td>\n",
       "      <td>2443</td>\n",
       "      <td>652</td>\n",
       "      <td>3.19</td>\n",
       "      <td>0.833</td>\n",
       "      <td>3466</td>\n",
       "      <td>1303</td>\n",
       "      <td>2.462</td>\n",
       "      <td>0.61</td>\n",
       "    </tr>\n",
       "    <tr>\n",
       "      <td>1</td>\n",
       "      <td>1</td>\n",
       "      <td>1</td>\n",
       "      <td>3</td>\n",
       "      <td>011_S_0003</td>\n",
       "      <td>bl</td>\n",
       "      <td>11</td>\n",
       "      <td>1</td>\n",
       "      <td>0</td>\n",
       "      <td>ADNI1</td>\n",
       "      <td>ADNI1</td>\n",
       "      <td>...</td>\n",
       "      <td>2.121</td>\n",
       "      <td>0.645</td>\n",
       "      <td>1881</td>\n",
       "      <td>697</td>\n",
       "      <td>2.214</td>\n",
       "      <td>0.857</td>\n",
       "      <td>3463</td>\n",
       "      <td>1350</td>\n",
       "      <td>2.295</td>\n",
       "      <td>0.648</td>\n",
       "    </tr>\n",
       "    <tr>\n",
       "      <td>2</td>\n",
       "      <td>2</td>\n",
       "      <td>2</td>\n",
       "      <td>3</td>\n",
       "      <td>011_S_0003</td>\n",
       "      <td>m06</td>\n",
       "      <td>11</td>\n",
       "      <td>1</td>\n",
       "      <td>0</td>\n",
       "      <td>ADNI1</td>\n",
       "      <td>ADNI1</td>\n",
       "      <td>...</td>\n",
       "      <td>2.028</td>\n",
       "      <td>0.58</td>\n",
       "      <td>1994</td>\n",
       "      <td>756</td>\n",
       "      <td>2.177</td>\n",
       "      <td>0.859</td>\n",
       "      <td>3411</td>\n",
       "      <td>1263</td>\n",
       "      <td>2.37</td>\n",
       "      <td>0.598</td>\n",
       "    </tr>\n",
       "    <tr>\n",
       "      <td>3</td>\n",
       "      <td>3</td>\n",
       "      <td>3</td>\n",
       "      <td>3</td>\n",
       "      <td>011_S_0003</td>\n",
       "      <td>m12</td>\n",
       "      <td>11</td>\n",
       "      <td>1</td>\n",
       "      <td>0</td>\n",
       "      <td>ADNI1</td>\n",
       "      <td>ADNI1</td>\n",
       "      <td>...</td>\n",
       "      <td>2.011</td>\n",
       "      <td>0.627</td>\n",
       "      <td>1776</td>\n",
       "      <td>712</td>\n",
       "      <td>2.046</td>\n",
       "      <td>0.796</td>\n",
       "      <td>3368</td>\n",
       "      <td>1321</td>\n",
       "      <td>2.317</td>\n",
       "      <td>0.635</td>\n",
       "    </tr>\n",
       "    <tr>\n",
       "      <td>4</td>\n",
       "      <td>4</td>\n",
       "      <td>4</td>\n",
       "      <td>3</td>\n",
       "      <td>011_S_0003</td>\n",
       "      <td>m24</td>\n",
       "      <td>11</td>\n",
       "      <td>1</td>\n",
       "      <td>0</td>\n",
       "      <td>ADNI1</td>\n",
       "      <td>ADNI1</td>\n",
       "      <td>...</td>\n",
       "      <td>2.144</td>\n",
       "      <td>0.676</td>\n",
       "      <td>1701</td>\n",
       "      <td>675</td>\n",
       "      <td>2.015</td>\n",
       "      <td>0.835</td>\n",
       "      <td>3566</td>\n",
       "      <td>1344</td>\n",
       "      <td>2.33</td>\n",
       "      <td>0.676</td>\n",
       "    </tr>\n",
       "  </tbody>\n",
       "</table>\n",
       "<p>5 rows × 502 columns</p>\n",
       "</div>"
      ],
      "text/plain": [
       "   Unnamed: 0  Unnamed: 0.1  RID        PTID VISCODE  SITE  D1  D2 COLPROT  \\\n",
       "0           0             0    2  011_S_0002      bl    11   1   1   ADNI1   \n",
       "1           1             1    3  011_S_0003      bl    11   1   0   ADNI1   \n",
       "2           2             2    3  011_S_0003     m06    11   1   0   ADNI1   \n",
       "3           3             3    3  011_S_0003     m12    11   1   0   ADNI1   \n",
       "4           4             4    3  011_S_0003     m24    11   1   0   ADNI1   \n",
       "\n",
       "  ORIGPROT  ... ST102TA_UCSFFSX_11_02_15_UCSFFSX51_08_01_16  \\\n",
       "0    ADNI1  ...                                       2.332   \n",
       "1    ADNI1  ...                                       2.121   \n",
       "2    ADNI1  ...                                       2.028   \n",
       "3    ADNI1  ...                                       2.011   \n",
       "4    ADNI1  ...                                       2.144   \n",
       "\n",
       "  ST102TS_UCSFFSX_11_02_15_UCSFFSX51_08_01_16  \\\n",
       "0                                       0.738   \n",
       "1                                       0.645   \n",
       "2                                        0.58   \n",
       "3                                       0.627   \n",
       "4                                       0.676   \n",
       "\n",
       "   ST103CV_UCSFFSX_11_02_15_UCSFFSX51_08_01_16  \\\n",
       "0                                         2443   \n",
       "1                                         1881   \n",
       "2                                         1994   \n",
       "3                                         1776   \n",
       "4                                         1701   \n",
       "\n",
       "   ST103SA_UCSFFSX_11_02_15_UCSFFSX51_08_01_16  \\\n",
       "0                                          652   \n",
       "1                                          697   \n",
       "2                                          756   \n",
       "3                                          712   \n",
       "4                                          675   \n",
       "\n",
       "  ST103TA_UCSFFSX_11_02_15_UCSFFSX51_08_01_16  \\\n",
       "0                                        3.19   \n",
       "1                                       2.214   \n",
       "2                                       2.177   \n",
       "3                                       2.046   \n",
       "4                                       2.015   \n",
       "\n",
       "   ST103TS_UCSFFSX_11_02_15_UCSFFSX51_08_01_16  \\\n",
       "0                                        0.833   \n",
       "1                                        0.857   \n",
       "2                                        0.859   \n",
       "3                                        0.796   \n",
       "4                                        0.835   \n",
       "\n",
       "  ST104CV_UCSFFSX_11_02_15_UCSFFSX51_08_01_16  \\\n",
       "0                                        3466   \n",
       "1                                        3463   \n",
       "2                                        3411   \n",
       "3                                        3368   \n",
       "4                                        3566   \n",
       "\n",
       "  ST104SA_UCSFFSX_11_02_15_UCSFFSX51_08_01_16  \\\n",
       "0                                        1303   \n",
       "1                                        1350   \n",
       "2                                        1263   \n",
       "3                                        1321   \n",
       "4                                        1344   \n",
       "\n",
       "  ST104TA_UCSFFSX_11_02_15_UCSFFSX51_08_01_16  \\\n",
       "0                                       2.462   \n",
       "1                                       2.295   \n",
       "2                                        2.37   \n",
       "3                                       2.317   \n",
       "4                                        2.33   \n",
       "\n",
       "   ST104TS_UCSFFSX_11_02_15_UCSFFSX51_08_01_16  \n",
       "0                                         0.61  \n",
       "1                                        0.648  \n",
       "2                                        0.598  \n",
       "3                                        0.635  \n",
       "4                                        0.676  \n",
       "\n",
       "[5 rows x 502 columns]"
      ]
     },
     "execution_count": 2,
     "metadata": {},
     "output_type": "execute_result"
    }
   ],
   "source": [
    "df = pd.read_csv(\"data_small.csv\")\n",
    "df.head()"
   ]
  },
  {
   "cell_type": "code",
   "execution_count": 3,
   "metadata": {},
   "outputs": [
    {
     "data": {
      "text/html": [
       "<div>\n",
       "<style scoped>\n",
       "    .dataframe tbody tr th:only-of-type {\n",
       "        vertical-align: middle;\n",
       "    }\n",
       "\n",
       "    .dataframe tbody tr th {\n",
       "        vertical-align: top;\n",
       "    }\n",
       "\n",
       "    .dataframe thead th {\n",
       "        text-align: right;\n",
       "    }\n",
       "</style>\n",
       "<table border=\"1\" class=\"dataframe\">\n",
       "  <thead>\n",
       "    <tr style=\"text-align: right;\">\n",
       "      <th></th>\n",
       "      <th>RID</th>\n",
       "      <th>PTID</th>\n",
       "      <th>VISCODE</th>\n",
       "      <th>SITE</th>\n",
       "      <th>D1</th>\n",
       "      <th>D2</th>\n",
       "      <th>COLPROT</th>\n",
       "      <th>ORIGPROT</th>\n",
       "      <th>EXAMDATE</th>\n",
       "      <th>DX_bl</th>\n",
       "      <th>...</th>\n",
       "      <th>ST102TA_UCSFFSX_11_02_15_UCSFFSX51_08_01_16</th>\n",
       "      <th>ST102TS_UCSFFSX_11_02_15_UCSFFSX51_08_01_16</th>\n",
       "      <th>ST103CV_UCSFFSX_11_02_15_UCSFFSX51_08_01_16</th>\n",
       "      <th>ST103SA_UCSFFSX_11_02_15_UCSFFSX51_08_01_16</th>\n",
       "      <th>ST103TA_UCSFFSX_11_02_15_UCSFFSX51_08_01_16</th>\n",
       "      <th>ST103TS_UCSFFSX_11_02_15_UCSFFSX51_08_01_16</th>\n",
       "      <th>ST104CV_UCSFFSX_11_02_15_UCSFFSX51_08_01_16</th>\n",
       "      <th>ST104SA_UCSFFSX_11_02_15_UCSFFSX51_08_01_16</th>\n",
       "      <th>ST104TA_UCSFFSX_11_02_15_UCSFFSX51_08_01_16</th>\n",
       "      <th>ST104TS_UCSFFSX_11_02_15_UCSFFSX51_08_01_16</th>\n",
       "    </tr>\n",
       "  </thead>\n",
       "  <tbody>\n",
       "    <tr>\n",
       "      <td>0</td>\n",
       "      <td>2</td>\n",
       "      <td>011_S_0002</td>\n",
       "      <td>bl</td>\n",
       "      <td>11</td>\n",
       "      <td>1</td>\n",
       "      <td>1</td>\n",
       "      <td>ADNI1</td>\n",
       "      <td>ADNI1</td>\n",
       "      <td>2005-09-08</td>\n",
       "      <td>CN</td>\n",
       "      <td>...</td>\n",
       "      <td>2.332</td>\n",
       "      <td>0.738</td>\n",
       "      <td>2443</td>\n",
       "      <td>652</td>\n",
       "      <td>3.19</td>\n",
       "      <td>0.833</td>\n",
       "      <td>3466</td>\n",
       "      <td>1303</td>\n",
       "      <td>2.462</td>\n",
       "      <td>0.61</td>\n",
       "    </tr>\n",
       "    <tr>\n",
       "      <td>1</td>\n",
       "      <td>3</td>\n",
       "      <td>011_S_0003</td>\n",
       "      <td>bl</td>\n",
       "      <td>11</td>\n",
       "      <td>1</td>\n",
       "      <td>0</td>\n",
       "      <td>ADNI1</td>\n",
       "      <td>ADNI1</td>\n",
       "      <td>2005-09-12</td>\n",
       "      <td>AD</td>\n",
       "      <td>...</td>\n",
       "      <td>2.121</td>\n",
       "      <td>0.645</td>\n",
       "      <td>1881</td>\n",
       "      <td>697</td>\n",
       "      <td>2.214</td>\n",
       "      <td>0.857</td>\n",
       "      <td>3463</td>\n",
       "      <td>1350</td>\n",
       "      <td>2.295</td>\n",
       "      <td>0.648</td>\n",
       "    </tr>\n",
       "    <tr>\n",
       "      <td>2</td>\n",
       "      <td>3</td>\n",
       "      <td>011_S_0003</td>\n",
       "      <td>m06</td>\n",
       "      <td>11</td>\n",
       "      <td>1</td>\n",
       "      <td>0</td>\n",
       "      <td>ADNI1</td>\n",
       "      <td>ADNI1</td>\n",
       "      <td>2006-03-13</td>\n",
       "      <td>AD</td>\n",
       "      <td>...</td>\n",
       "      <td>2.028</td>\n",
       "      <td>0.58</td>\n",
       "      <td>1994</td>\n",
       "      <td>756</td>\n",
       "      <td>2.177</td>\n",
       "      <td>0.859</td>\n",
       "      <td>3411</td>\n",
       "      <td>1263</td>\n",
       "      <td>2.37</td>\n",
       "      <td>0.598</td>\n",
       "    </tr>\n",
       "    <tr>\n",
       "      <td>3</td>\n",
       "      <td>3</td>\n",
       "      <td>011_S_0003</td>\n",
       "      <td>m12</td>\n",
       "      <td>11</td>\n",
       "      <td>1</td>\n",
       "      <td>0</td>\n",
       "      <td>ADNI1</td>\n",
       "      <td>ADNI1</td>\n",
       "      <td>2006-09-12</td>\n",
       "      <td>AD</td>\n",
       "      <td>...</td>\n",
       "      <td>2.011</td>\n",
       "      <td>0.627</td>\n",
       "      <td>1776</td>\n",
       "      <td>712</td>\n",
       "      <td>2.046</td>\n",
       "      <td>0.796</td>\n",
       "      <td>3368</td>\n",
       "      <td>1321</td>\n",
       "      <td>2.317</td>\n",
       "      <td>0.635</td>\n",
       "    </tr>\n",
       "    <tr>\n",
       "      <td>4</td>\n",
       "      <td>3</td>\n",
       "      <td>011_S_0003</td>\n",
       "      <td>m24</td>\n",
       "      <td>11</td>\n",
       "      <td>1</td>\n",
       "      <td>0</td>\n",
       "      <td>ADNI1</td>\n",
       "      <td>ADNI1</td>\n",
       "      <td>2007-09-12</td>\n",
       "      <td>AD</td>\n",
       "      <td>...</td>\n",
       "      <td>2.144</td>\n",
       "      <td>0.676</td>\n",
       "      <td>1701</td>\n",
       "      <td>675</td>\n",
       "      <td>2.015</td>\n",
       "      <td>0.835</td>\n",
       "      <td>3566</td>\n",
       "      <td>1344</td>\n",
       "      <td>2.33</td>\n",
       "      <td>0.676</td>\n",
       "    </tr>\n",
       "  </tbody>\n",
       "</table>\n",
       "<p>5 rows × 500 columns</p>\n",
       "</div>"
      ],
      "text/plain": [
       "   RID        PTID VISCODE  SITE  D1  D2 COLPROT ORIGPROT    EXAMDATE DX_bl  \\\n",
       "0    2  011_S_0002      bl    11   1   1   ADNI1    ADNI1  2005-09-08    CN   \n",
       "1    3  011_S_0003      bl    11   1   0   ADNI1    ADNI1  2005-09-12    AD   \n",
       "2    3  011_S_0003     m06    11   1   0   ADNI1    ADNI1  2006-03-13    AD   \n",
       "3    3  011_S_0003     m12    11   1   0   ADNI1    ADNI1  2006-09-12    AD   \n",
       "4    3  011_S_0003     m24    11   1   0   ADNI1    ADNI1  2007-09-12    AD   \n",
       "\n",
       "   ...  ST102TA_UCSFFSX_11_02_15_UCSFFSX51_08_01_16  \\\n",
       "0  ...                                        2.332   \n",
       "1  ...                                        2.121   \n",
       "2  ...                                        2.028   \n",
       "3  ...                                        2.011   \n",
       "4  ...                                        2.144   \n",
       "\n",
       "   ST102TS_UCSFFSX_11_02_15_UCSFFSX51_08_01_16  \\\n",
       "0                                        0.738   \n",
       "1                                        0.645   \n",
       "2                                         0.58   \n",
       "3                                        0.627   \n",
       "4                                        0.676   \n",
       "\n",
       "  ST103CV_UCSFFSX_11_02_15_UCSFFSX51_08_01_16  \\\n",
       "0                                        2443   \n",
       "1                                        1881   \n",
       "2                                        1994   \n",
       "3                                        1776   \n",
       "4                                        1701   \n",
       "\n",
       "   ST103SA_UCSFFSX_11_02_15_UCSFFSX51_08_01_16  \\\n",
       "0                                          652   \n",
       "1                                          697   \n",
       "2                                          756   \n",
       "3                                          712   \n",
       "4                                          675   \n",
       "\n",
       "  ST103TA_UCSFFSX_11_02_15_UCSFFSX51_08_01_16  \\\n",
       "0                                        3.19   \n",
       "1                                       2.214   \n",
       "2                                       2.177   \n",
       "3                                       2.046   \n",
       "4                                       2.015   \n",
       "\n",
       "  ST103TS_UCSFFSX_11_02_15_UCSFFSX51_08_01_16  \\\n",
       "0                                       0.833   \n",
       "1                                       0.857   \n",
       "2                                       0.859   \n",
       "3                                       0.796   \n",
       "4                                       0.835   \n",
       "\n",
       "  ST104CV_UCSFFSX_11_02_15_UCSFFSX51_08_01_16  \\\n",
       "0                                        3466   \n",
       "1                                        3463   \n",
       "2                                        3411   \n",
       "3                                        3368   \n",
       "4                                        3566   \n",
       "\n",
       "   ST104SA_UCSFFSX_11_02_15_UCSFFSX51_08_01_16  \\\n",
       "0                                         1303   \n",
       "1                                         1350   \n",
       "2                                         1263   \n",
       "3                                         1321   \n",
       "4                                         1344   \n",
       "\n",
       "   ST104TA_UCSFFSX_11_02_15_UCSFFSX51_08_01_16  \\\n",
       "0                                        2.462   \n",
       "1                                        2.295   \n",
       "2                                         2.37   \n",
       "3                                        2.317   \n",
       "4                                         2.33   \n",
       "\n",
       "   ST104TS_UCSFFSX_11_02_15_UCSFFSX51_08_01_16  \n",
       "0                                         0.61  \n",
       "1                                        0.648  \n",
       "2                                        0.598  \n",
       "3                                        0.635  \n",
       "4                                        0.676  \n",
       "\n",
       "[5 rows x 500 columns]"
      ]
     },
     "execution_count": 3,
     "metadata": {},
     "output_type": "execute_result"
    }
   ],
   "source": [
    "df = df.drop(df.columns[[0, 1]], axis=1)\n",
    "df.head()"
   ]
  },
  {
   "cell_type": "markdown",
   "metadata": {},
   "source": [
    " "
   ]
  },
  {
   "cell_type": "markdown",
   "metadata": {},
   "source": [
    "# Data analysis"
   ]
  },
  {
   "cell_type": "markdown",
   "metadata": {},
   "source": [
    "We will start by analyzing the most commonly used variables enumerated in the second paragraph of this notebook."
   ]
  },
  {
   "cell_type": "code",
   "execution_count": 4,
   "metadata": {},
   "outputs": [],
   "source": [
    "cofactors = ['PTEDUCAT', 'PTETHCAT', 'PTRACCAT', 'PTMARRY', 'APOE4']\n",
    "cognitive_tests = ['CDRSB', 'ADAS11', 'ADAS13', 'MMSE', 'RAVLT_immediate', 'RAVLT_learning',\n",
    "                   'RAVLT_forgetting', 'RAVLT_perc_forgetting', 'FAQ', 'MOCA']\n",
    "imaging_vars = ['Ventricles', 'Hippocampus', 'WholeBrain', 'Entorhinal',\n",
    "                'Fusiform', 'MidTemp', 'ICV']\n",
    "radio_tracers = ['FDG', 'PIB', 'AV45']\n",
    "\n",
    "selected_vars = ['DXCHANGE', 'AGE'] + cofactors + cognitive_tests + imaging_vars + radio_tracers"
   ]
  },
  {
   "cell_type": "code",
   "execution_count": 5,
   "metadata": {},
   "outputs": [],
   "source": [
    "df_bl = df[selected_vars]\n",
    "df_bl = df_bl[df.VISCODE == 'bl']"
   ]
  },
  {
   "cell_type": "code",
   "execution_count": 6,
   "metadata": {},
   "outputs": [
    {
     "name": "stdout",
     "output_type": "stream",
     "text": [
      "CN : 0.3027309703660662\n",
      "MCI : 0.5020337013364323\n",
      "AD : 0.19523532829750145\n"
     ]
    }
   ],
   "source": [
    "### Proportion of each diagnosis\n",
    "print(\"CN :\", len(df_bl[df_bl.DXCHANGE == 1])/len(df_bl))\n",
    "print(\"MCI :\", len(df_bl[df_bl.DXCHANGE == 2])/len(df_bl))\n",
    "print(\"AD :\", len(df_bl[df_bl.DXCHANGE == 3])/len(df_bl))"
   ]
  },
  {
   "cell_type": "markdown",
   "metadata": {},
   "source": [
    "At first, let's look at the cofactors variables."
   ]
  },
  {
   "cell_type": "code",
   "execution_count": 7,
   "metadata": {},
   "outputs": [
    {
     "name": "stdout",
     "output_type": "stream",
     "text": [
      "16    407\n",
      "18    303\n",
      "20    233\n",
      "12    218\n",
      "14    191\n",
      "17     82\n",
      "13     79\n",
      "19     77\n",
      "15     64\n",
      "10     21\n",
      "11     16\n",
      "8      12\n",
      "9       7\n",
      "7       6\n",
      "6       3\n",
      "4       2\n",
      "Name: PTEDUCAT, dtype: int64\n",
      "\n",
      "Not Hisp/Latino    1654\n",
      "Hisp/Latino          56\n",
      "Unknown              11\n",
      "Name: PTETHCAT, dtype: int64\n",
      "\n",
      "White                1591\n",
      "Black                  77\n",
      "Asian                  29\n",
      "More than one          16\n",
      "Am Indian/Alaskan       3\n",
      "Unknown                 3\n",
      "Hawaiian/Other PI       2\n",
      "Name: PTRACCAT, dtype: int64\n",
      "\n",
      "Married          1299\n",
      "Widowed           205\n",
      "Divorced          148\n",
      "Never married      62\n",
      "Unknown             7\n",
      "Name: PTMARRY, dtype: int64\n",
      "\n",
      "0.0    911\n",
      "1.0    633\n",
      "2.0    171\n",
      "Name: APOE4, dtype: int64\n",
      "\n"
     ]
    }
   ],
   "source": [
    "### Cofactors analysis\n",
    "for col in cofactors :\n",
    "    print(df_bl[col].value_counts())\n",
    "    print()"
   ]
  },
  {
   "cell_type": "markdown",
   "metadata": {},
   "source": [
    "PTETHCAT and PTRACCAT don't seem to be relevant variables since almost all patients are non-hispanic white people. Let's also regroup the lowest values of PTEDUCAT into one category."
   ]
  },
  {
   "cell_type": "code",
   "execution_count": 8,
   "metadata": {},
   "outputs": [],
   "source": [
    "df_bl = df_bl.drop(['PTETHCAT', 'PTRACCAT'], axis=1)\n",
    "df_bl['PTEDUCAT'] = df_bl['PTEDUCAT'].apply(lambda x: 11 if x<12 else x)\n",
    "\n",
    "# There are more married people than non-married people in the dataset.\n",
    "# To balance the different classes, marital status is also replaced by a binary variable (1 for married / 0 for others).\n",
    "# Moreover, the distribution of DXCHANGE values for widowed, divorced and never married seem quite similar.\n",
    "df_bl['PTMARRY'] = df_bl['PTMARRY'].replace(to_replace=['Divorced','Married', 'Never married', 'Widowed'], value=[0,1,0,0])\n",
    "\n",
    "# There are few people with an unknown marital status so they can be removed from the dataset\n",
    "df_bl = df_bl[df_bl.PTMARRY != 'Unknown']"
   ]
  },
  {
   "cell_type": "code",
   "execution_count": 9,
   "metadata": {},
   "outputs": [
    {
     "name": "stdout",
     "output_type": "stream",
     "text": [
      "PTMARRY  DXCHANGE\n",
      "0        2.0         0.465060\n",
      "         1.0         0.402410\n",
      "         3.0         0.132530\n",
      "1        2.0         0.511932\n",
      "         1.0         0.271747\n",
      "         3.0         0.216320\n",
      "Name: DXCHANGE, dtype: float64\n"
     ]
    },
    {
     "name": "stderr",
     "output_type": "stream",
     "text": [
      "C:\\Users\\Geoffrey\\Anaconda3\\lib\\site-packages\\ipykernel_launcher.py:3: UserWarning: Boolean Series key will be reindexed to match DataFrame index.\n",
      "  This is separate from the ipykernel package so we can avoid doing imports until\n",
      "C:\\Users\\Geoffrey\\Anaconda3\\lib\\site-packages\\ipykernel_launcher.py:4: UserWarning: Boolean Series key will be reindexed to match DataFrame index.\n",
      "  after removing the cwd from sys.path.\n",
      "C:\\Users\\Geoffrey\\Anaconda3\\lib\\site-packages\\ipykernel_launcher.py:5: UserWarning: Boolean Series key will be reindexed to match DataFrame index.\n",
      "  \"\"\"\n"
     ]
    },
    {
     "data": {
      "text/plain": [
       "([array([0.02350427, 0.09615385, 0.04700855, 0.11965812, 0.0534188 ,\n",
       "         0.25641026, 0.05769231, 0.21581197, 0.0534188 , 0.18803419]),\n",
       "  array([0.04273504, 0.14504015, 0.05309505, 0.12302512, 0.03367003,\n",
       "         0.25641026, 0.05439005, 0.2033152 , 0.05309505, 0.14633515]),\n",
       "  array([0.0760582 , 0.19510582, 0.05291005, 0.12896825, 0.03968254,\n",
       "         0.29100529, 0.04298942, 0.14880952, 0.03306878, 0.10251323])],\n",
       " array([11. , 11.9, 12.8, 13.7, 14.6, 15.5, 16.4, 17.3, 18.2, 19.1, 20. ]),\n",
       " <a list of 3 Lists of Patches objects>)"
      ]
     },
     "execution_count": 9,
     "metadata": {},
     "output_type": "execute_result"
    },
    {
     "data": {
      "image/png": "[encoded data removed]",
      "text/plain": [
       "<Figure size 432x288 with 1 Axes>"
      ]
     },
     "metadata": {
      "needs_background": "light"
     },
     "output_type": "display_data"
    }
   ],
   "source": [
    "print(df_bl.groupby(['PTMARRY'])['DXCHANGE'].value_counts(normalize=True))\n",
    "\n",
    "lab1 = df_bl[df.DXCHANGE == 1]['PTEDUCAT'].to_numpy()\n",
    "lab2 = df_bl[df.DXCHANGE == 2]['PTEDUCAT'].to_numpy()\n",
    "lab3 = df_bl[df.DXCHANGE == 3]['PTEDUCAT'].to_numpy()\n",
    "plt.hist((lab1,lab2,lab3),10, label = ('CN','MCI','AD'), density = True)\n",
    "# Blue is CN / Orange is MCI / Green is AD"
   ]
  },
  {
   "cell_type": "markdown",
   "metadata": {},
   "source": [
    "We can see significative differences in diagnosis depending on marital status ot level of education."
   ]
  },
  {
   "cell_type": "markdown",
   "metadata": {},
   "source": [
    "We will now analyse the data of the results of the cognitive tests."
   ]
  },
  {
   "cell_type": "code",
   "execution_count": 10,
   "metadata": {},
   "outputs": [
    {
     "name": "stdout",
     "output_type": "stream",
     "text": [
      "count    1714.000000\n",
      "mean        1.643816\n",
      "std         1.798731\n",
      "min         0.000000\n",
      "25%         0.000000\n",
      "50%         1.000000\n",
      "75%         2.500000\n",
      "max        10.000000\n",
      "Name: CDRSB, dtype: float64\n"
     ]
    },
    {
     "data": {
      "image/png": "[encoded data removed]",
      "text/plain": [
       "<Figure size 432x288 with 1 Axes>"
      ]
     },
     "metadata": {
      "needs_background": "light"
     },
     "output_type": "display_data"
    },
    {
     "name": "stdout",
     "output_type": "stream",
     "text": [
      "\n",
      "count    1711.000000\n",
      "mean       10.781222\n",
      "std         6.662858\n",
      "min         0.000000\n",
      "25%         6.000000\n",
      "50%         9.000000\n",
      "75%        14.000000\n",
      "max        42.670000\n",
      "Name: ADAS11, dtype: float64\n"
     ]
    },
    {
     "data": {
      "image/png": "[encoded data removed]",
      "text/plain": [
       "<Figure size 432x288 with 1 Axes>"
      ]
     },
     "metadata": {
      "needs_background": "light"
     },
     "output_type": "display_data"
    },
    {
     "name": "stdout",
     "output_type": "stream",
     "text": [
      "\n",
      "count    1702.000000\n",
      "mean       16.907556\n",
      "std         9.586452\n",
      "min         0.000000\n",
      "25%         9.330000\n",
      "50%        15.000000\n",
      "75%        23.000000\n",
      "max        54.670000\n",
      "Name: ADAS13, dtype: float64\n"
     ]
    },
    {
     "data": {
      "image/png": "[encoded data removed]",
      "text/plain": [
       "<Figure size 432x288 with 1 Axes>"
      ]
     },
     "metadata": {
      "needs_background": "light"
     },
     "output_type": "display_data"
    },
    {
     "name": "stdout",
     "output_type": "stream",
     "text": [
      "\n",
      "count    1714.000000\n",
      "mean       27.166278\n",
      "std         2.671072\n",
      "min        18.000000\n",
      "25%        26.000000\n",
      "50%        28.000000\n",
      "75%        29.000000\n",
      "max        30.000000\n",
      "Name: MMSE, dtype: float64\n"
     ]
    },
    {
     "data": {
      "image/png": "[encoded data removed]",
      "text/plain": [
       "<Figure size 432x288 with 1 Axes>"
      ]
     },
     "metadata": {
      "needs_background": "light"
     },
     "output_type": "display_data"
    },
    {
     "name": "stdout",
     "output_type": "stream",
     "text": [
      "\n",
      "count    1709.000000\n",
      "mean       35.161498\n",
      "std        12.436053\n",
      "min         0.000000\n",
      "25%        26.000000\n",
      "50%        34.000000\n",
      "75%        44.000000\n",
      "max        71.000000\n",
      "Name: RAVLT_immediate, dtype: float64\n"
     ]
    },
    {
     "data": {
      "image/png": "[encoded data removed]",
      "text/plain": [
       "<Figure size 432x288 with 1 Axes>"
      ]
     },
     "metadata": {
      "needs_background": "light"
     },
     "output_type": "display_data"
    },
    {
     "name": "stdout",
     "output_type": "stream",
     "text": [
      "\n",
      "count    1709.000000\n",
      "mean        4.174956\n",
      "std         2.733765\n",
      "min        -4.000000\n",
      "25%         2.000000\n",
      "50%         4.000000\n",
      "75%         6.000000\n",
      "max        12.000000\n",
      "Name: RAVLT_learning, dtype: float64\n"
     ]
    },
    {
     "data": {
      "image/png": "[encoded data removed]",
      "text/plain": [
       "<Figure size 432x288 with 1 Axes>"
      ]
     },
     "metadata": {
      "needs_background": "light"
     },
     "output_type": "display_data"
    },
    {
     "name": "stdout",
     "output_type": "stream",
     "text": [
      "\n",
      "count    1709.000000\n",
      "mean        4.332943\n",
      "std         2.447045\n",
      "min        -5.000000\n",
      "25%         3.000000\n",
      "50%         4.000000\n",
      "75%         6.000000\n",
      "max        15.000000\n",
      "Name: RAVLT_forgetting, dtype: float64\n"
     ]
    },
    {
     "data": {
      "image/png": "[encoded data removed]",
      "text/plain": [
       "<Figure size 432x288 with 1 Axes>"
      ]
     },
     "metadata": {
      "needs_background": "light"
     },
     "output_type": "display_data"
    },
    {
     "name": "stdout",
     "output_type": "stream",
     "text": [
      "\n",
      "count    1704.000000\n",
      "mean       58.602082\n",
      "std        34.470912\n",
      "min      -100.000000\n",
      "25%        30.000000\n",
      "50%        60.000000\n",
      "75%       100.000000\n",
      "max       100.000000\n",
      "Name: RAVLT_perc_forgetting, dtype: float64\n"
     ]
    },
    {
     "data": {
      "image/png": "[encoded data removed]",
      "text/plain": [
       "<Figure size 432x288 with 1 Axes>"
      ]
     },
     "metadata": {
      "needs_background": "light"
     },
     "output_type": "display_data"
    },
    {
     "name": "stdout",
     "output_type": "stream",
     "text": [
      "\n",
      "count    1709.000000\n",
      "mean        4.262727\n",
      "std         6.288490\n",
      "min         0.000000\n",
      "25%         0.000000\n",
      "50%         1.000000\n",
      "75%         6.000000\n",
      "max        30.000000\n",
      "Name: FAQ, dtype: float64\n"
     ]
    },
    {
     "data": {
      "image/png": "[encoded data removed]",
      "text/plain": [
       "<Figure size 432x288 with 1 Axes>"
      ]
     },
     "metadata": {
      "needs_background": "light"
     },
     "output_type": "display_data"
    },
    {
     "name": "stdout",
     "output_type": "stream",
     "text": [
      "\n",
      "count    890.000000\n",
      "mean      23.158427\n",
      "std        4.278634\n",
      "min        4.000000\n",
      "25%       21.000000\n",
      "50%       24.000000\n",
      "75%       26.000000\n",
      "max       30.000000\n",
      "Name: MOCA, dtype: float64\n"
     ]
    },
    {
     "data": {
      "image/png": "[encoded data removed]",
      "text/plain": [
       "<Figure size 432x288 with 1 Axes>"
      ]
     },
     "metadata": {
      "needs_background": "light"
     },
     "output_type": "display_data"
    },
    {
     "name": "stdout",
     "output_type": "stream",
     "text": [
      "\n"
     ]
    }
   ],
   "source": [
    "### Cognitive tests\n",
    "for col in cognitive_tests :\n",
    "    print(df_bl[col].describe())\n",
    "    plt.scatter(df_bl[col], df_bl.DXCHANGE)\n",
    "    plt.show()\n",
    "    print()"
   ]
  },
  {
   "cell_type": "markdown",
   "metadata": {},
   "source": [
    "The datas are not linearly separable for all of the tests but we can see that with a simple rule (MOCA < 7, for example), an accurate diagnosis can be achieved. Since we have many different tests results in the dataset, a CN vs AD classification should be relatively easy. If we plot two variables against each other, this is even more obvious."
   ]
  },
  {
   "cell_type": "code",
   "execution_count": 11,
   "metadata": {},
   "outputs": [
    {
     "data": {
      "image/png": "[encoded data removed]",
      "text/plain": [
       "<Figure size 432x288 with 1 Axes>"
      ]
     },
     "metadata": {
      "needs_background": "light"
     },
     "output_type": "display_data"
    }
   ],
   "source": [
    "test = df_bl.groupby('DXCHANGE')\n",
    "fig, ax = plt.subplots()\n",
    "ax.margins(0.05)\n",
    "for name, group in test :\n",
    "    ax.plot(group.ADAS13, group.MMSE, marker='o', linestyle='', ms=6, label=name)\n",
    "ax.legend()\n",
    "\n",
    "plt.show()"
   ]
  },
  {
   "cell_type": "code",
   "execution_count": 12,
   "metadata": {},
   "outputs": [
    {
     "name": "stdout",
     "output_type": "stream",
     "text": [
      "count      1635.000000\n",
      "mean      40297.962080\n",
      "std       22640.615098\n",
      "min        5650.000000\n",
      "25%       23850.500000\n",
      "50%       35363.000000\n",
      "75%       51496.000000\n",
      "max      145115.000000\n",
      "Name: Ventricles, dtype: float64\n"
     ]
    },
    {
     "data": {
      "image/png": "[encoded data removed]",
      "text/plain": [
       "<Figure size 432x288 with 1 Axes>"
      ]
     },
     "metadata": {
      "needs_background": "light"
     },
     "output_type": "display_data"
    },
    {
     "name": "stdout",
     "output_type": "stream",
     "text": [
      "\n",
      "count     1473.000000\n",
      "mean      6783.573659\n",
      "std       1185.270121\n",
      "min       2991.000000\n",
      "25%       5945.000000\n",
      "50%       6852.000000\n",
      "75%       7640.000000\n",
      "max      10769.000000\n",
      "Name: Hippocampus, dtype: float64\n"
     ]
    },
    {
     "data": {
      "image/png": "[encoded data removed]",
      "text/plain": [
       "<Figure size 432x288 with 1 Axes>"
      ]
     },
     "metadata": {
      "needs_background": "light"
     },
     "output_type": "display_data"
    },
    {
     "name": "stdout",
     "output_type": "stream",
     "text": [
      "\n",
      "count    1.669000e+03\n",
      "mean     1.020335e+06\n",
      "std      1.114006e+05\n",
      "min      6.693640e+05\n",
      "25%      9.396240e+05\n",
      "50%      1.014910e+06\n",
      "75%      1.094310e+06\n",
      "max      1.486040e+06\n",
      "Name: WholeBrain, dtype: float64\n"
     ]
    },
    {
     "data": {
      "image/png": "[encoded data removed]",
      "text/plain": [
       "<Figure size 432x288 with 1 Axes>"
      ]
     },
     "metadata": {
      "needs_background": "light"
     },
     "output_type": "display_data"
    },
    {
     "name": "stdout",
     "output_type": "stream",
     "text": [
      "\n",
      "count    1450.000000\n",
      "mean     3485.246897\n",
      "std       779.766678\n",
      "min      1426.000000\n",
      "25%      2951.000000\n",
      "50%      3508.000000\n",
      "75%      4037.500000\n",
      "max      5896.000000\n",
      "Name: Entorhinal, dtype: float64\n"
     ]
    },
    {
     "data": {
      "image/png": "[encoded data removed]",
      "text/plain": [
       "<Figure size 432x288 with 1 Axes>"
      ]
     },
     "metadata": {
      "needs_background": "light"
     },
     "output_type": "display_data"
    },
    {
     "name": "stdout",
     "output_type": "stream",
     "text": [
      "\n",
      "count     1450.000000\n",
      "mean     17293.253103\n",
      "std       2753.382670\n",
      "min       8991.000000\n",
      "25%      15430.000000\n",
      "50%      17259.000000\n",
      "75%      19076.500000\n",
      "max      29950.000000\n",
      "Name: Fusiform, dtype: float64\n"
     ]
    },
    {
     "data": {
      "image/png": "[encoded data removed]",
      "text/plain": [
       "<Figure size 432x288 with 1 Axes>"
      ]
     },
     "metadata": {
      "needs_background": "light"
     },
     "output_type": "display_data"
    },
    {
     "name": "stdout",
     "output_type": "stream",
     "text": [
      "\n",
      "count     1450.000000\n",
      "mean     19441.013103\n",
      "std       3090.770336\n",
      "min       9375.000000\n",
      "25%      17459.750000\n",
      "50%      19415.500000\n",
      "75%      21511.250000\n",
      "max      32189.000000\n",
      "Name: MidTemp, dtype: float64\n"
     ]
    },
    {
     "data": {
      "image/png": "[encoded data removed]",
      "text/plain": [
       "<Figure size 432x288 with 1 Axes>"
      ]
     },
     "metadata": {
      "needs_background": "light"
     },
     "output_type": "display_data"
    },
    {
     "name": "stdout",
     "output_type": "stream",
     "text": [
      "\n",
      "count    1.701000e+03\n",
      "mean     1.531047e+06\n",
      "std      1.666342e+05\n",
      "min      1.100690e+06\n",
      "25%      1.411180e+06\n",
      "50%      1.516900e+06\n",
      "75%      1.637980e+06\n",
      "max      2.110290e+06\n",
      "Name: ICV, dtype: float64\n"
     ]
    },
    {
     "data": {
      "image/png": "[encoded data removed]",
      "text/plain": [
       "<Figure size 432x288 with 1 Axes>"
      ]
     },
     "metadata": {
      "needs_background": "light"
     },
     "output_type": "display_data"
    },
    {
     "name": "stdout",
     "output_type": "stream",
     "text": [
      "\n"
     ]
    }
   ],
   "source": [
    "### Imaging variables\n",
    "for col in imaging_vars :\n",
    "    print(df_bl[col].describe())\n",
    "    plt.scatter(df_bl[col], df_bl.DXCHANGE)\n",
    "    plt.show()\n",
    "    print()"
   ]
  },
  {
   "cell_type": "markdown",
   "metadata": {},
   "source": [
    "Unfortunately, most of the imaging variables don't seem very useful for a classification task but since we don't lack of computing power, we can still keep them in the dataset."
   ]
  },
  {
   "cell_type": "code",
   "execution_count": 13,
   "metadata": {},
   "outputs": [
    {
     "name": "stdout",
     "output_type": "stream",
     "text": [
      "count    1290.000000\n",
      "mean        1.233333\n",
      "std         0.154542\n",
      "min         0.697264\n",
      "25%         1.140130\n",
      "50%         1.244020\n",
      "75%         1.336593\n",
      "max         1.707170\n",
      "Name: FDG, dtype: float64\n"
     ]
    },
    {
     "data": {
      "image/png": "[encoded data removed]",
      "text/plain": [
       "<Figure size 432x288 with 1 Axes>"
      ]
     },
     "metadata": {
      "needs_background": "light"
     },
     "output_type": "display_data"
    },
    {
     "name": "stdout",
     "output_type": "stream",
     "text": [
      "\n",
      "count    20.000000\n",
      "mean      1.698375\n",
      "std       0.372302\n",
      "min       1.155000\n",
      "25%       1.361875\n",
      "50%       1.743750\n",
      "75%       1.956250\n",
      "max       2.282500\n",
      "Name: PIB, dtype: float64\n"
     ]
    },
    {
     "data": {
      "image/png": "[encoded data removed]",
      "text/plain": [
       "<Figure size 432x288 with 1 Axes>"
      ]
     },
     "metadata": {
      "needs_background": "light"
     },
     "output_type": "display_data"
    },
    {
     "name": "stdout",
     "output_type": "stream",
     "text": [
      "\n",
      "count    883.000000\n",
      "mean       1.212668\n",
      "std        0.227201\n",
      "min        0.838537\n",
      "25%        1.020925\n",
      "50%        1.138380\n",
      "75%        1.390540\n",
      "max        2.025560\n",
      "Name: AV45, dtype: float64\n"
     ]
    },
    {
     "data": {
      "image/png": "[encoded data removed]",
      "text/plain": [
       "<Figure size 432x288 with 1 Axes>"
      ]
     },
     "metadata": {
      "needs_background": "light"
     },
     "output_type": "display_data"
    },
    {
     "name": "stdout",
     "output_type": "stream",
     "text": [
      "\n"
     ]
    }
   ],
   "source": [
    "### Radio tracers analysis\n",
    "for col in radio_tracers :\n",
    "    print(df_bl[col].describe())\n",
    "    plt.scatter(df_bl[col], df_bl.DXCHANGE)\n",
    "    plt.show()\n",
    "    print()"
   ]
  },
  {
   "cell_type": "markdown",
   "metadata": {},
   "source": [
    "Only 200 patients (out of 1714) have a PIB value so this variable should be removed from the dataset."
   ]
  },
  {
   "cell_type": "code",
   "execution_count": 14,
   "metadata": {},
   "outputs": [],
   "source": [
    "df_bl = df_bl.drop(['PIB'], axis=1)"
   ]
  },
  {
   "cell_type": "code",
   "execution_count": 15,
   "metadata": {},
   "outputs": [],
   "source": [
    "def clean_df(df) :\n",
    "    df = df.drop(['PTETHCAT', 'PTRACCAT'], axis=1)\n",
    "    df['PTEDUCAT'] = df['PTEDUCAT'].apply(lambda x: 11 if x<12 else x)\n",
    "    df['PTMARRY'] = df['PTMARRY'].replace(to_replace=['Divorced','Married', 'Never married', 'Widowed'], value=[0,1,0,0])\n",
    "    df = df[df.PTMARRY != 'Unknown']\n",
    "    df = df.drop(['PIB'], axis=1)\n",
    "    return df"
   ]
  },
  {
   "cell_type": "markdown",
   "metadata": {},
   "source": [
    "# Part 1: Alzheimer's Disease (AD) Versus Cognitively  Normal (CN) at baseline\n",
    "\n",
    "The first task of this notebook consists in keeping only the first visit of each patient (\"VISCODE\" == \"bl\") and keeping only cognitively normal patient and patient with Alzheimer's disease (\"DXCHANGE\" == 1 and \"DXCHANGE\" == 3).\n",
    "\n",
    "From this subset of the initial dataset, the goal is to diagnose the patient status (1 or 3) given the other variables (you are free to choose the one you want)."
   ]
  },
  {
   "cell_type": "code",
   "execution_count": 16,
   "metadata": {},
   "outputs": [
    {
     "data": {
      "text/html": [
       "<div>\n",
       "<style scoped>\n",
       "    .dataframe tbody tr th:only-of-type {\n",
       "        vertical-align: middle;\n",
       "    }\n",
       "\n",
       "    .dataframe tbody tr th {\n",
       "        vertical-align: top;\n",
       "    }\n",
       "\n",
       "    .dataframe thead th {\n",
       "        text-align: right;\n",
       "    }\n",
       "</style>\n",
       "<table border=\"1\" class=\"dataframe\">\n",
       "  <thead>\n",
       "    <tr style=\"text-align: right;\">\n",
       "      <th></th>\n",
       "      <th>DXCHANGE</th>\n",
       "      <th>AGE</th>\n",
       "      <th>PTEDUCAT</th>\n",
       "      <th>PTMARRY</th>\n",
       "      <th>APOE4</th>\n",
       "      <th>CDRSB</th>\n",
       "      <th>ADAS11</th>\n",
       "      <th>ADAS13</th>\n",
       "      <th>MMSE</th>\n",
       "      <th>RAVLT_immediate</th>\n",
       "      <th>...</th>\n",
       "      <th>MOCA</th>\n",
       "      <th>Ventricles</th>\n",
       "      <th>Hippocampus</th>\n",
       "      <th>WholeBrain</th>\n",
       "      <th>Entorhinal</th>\n",
       "      <th>Fusiform</th>\n",
       "      <th>MidTemp</th>\n",
       "      <th>ICV</th>\n",
       "      <th>FDG</th>\n",
       "      <th>AV45</th>\n",
       "    </tr>\n",
       "  </thead>\n",
       "  <tbody>\n",
       "    <tr>\n",
       "      <td>0</td>\n",
       "      <td>1.0</td>\n",
       "      <td>74.3</td>\n",
       "      <td>16</td>\n",
       "      <td>1</td>\n",
       "      <td>0.0</td>\n",
       "      <td>0.0</td>\n",
       "      <td>10.67</td>\n",
       "      <td>18.67</td>\n",
       "      <td>28.0</td>\n",
       "      <td>44.0</td>\n",
       "      <td>...</td>\n",
       "      <td>NaN</td>\n",
       "      <td>118233.0</td>\n",
       "      <td>8336.0</td>\n",
       "      <td>1229740.0</td>\n",
       "      <td>4177.0</td>\n",
       "      <td>16559.0</td>\n",
       "      <td>27936.0</td>\n",
       "      <td>1984660.0</td>\n",
       "      <td>1.36926</td>\n",
       "      <td>NaN</td>\n",
       "    </tr>\n",
       "    <tr>\n",
       "      <td>1</td>\n",
       "      <td>3.0</td>\n",
       "      <td>81.3</td>\n",
       "      <td>18</td>\n",
       "      <td>1</td>\n",
       "      <td>1.0</td>\n",
       "      <td>4.5</td>\n",
       "      <td>22.00</td>\n",
       "      <td>31.00</td>\n",
       "      <td>20.0</td>\n",
       "      <td>22.0</td>\n",
       "      <td>...</td>\n",
       "      <td>NaN</td>\n",
       "      <td>84599.0</td>\n",
       "      <td>5319.0</td>\n",
       "      <td>1129830.0</td>\n",
       "      <td>1791.0</td>\n",
       "      <td>15506.0</td>\n",
       "      <td>18422.0</td>\n",
       "      <td>1920690.0</td>\n",
       "      <td>1.09079</td>\n",
       "      <td>NaN</td>\n",
       "    </tr>\n",
       "    <tr>\n",
       "      <td>10</td>\n",
       "      <td>1.0</td>\n",
       "      <td>73.7</td>\n",
       "      <td>16</td>\n",
       "      <td>1</td>\n",
       "      <td>0.0</td>\n",
       "      <td>0.0</td>\n",
       "      <td>8.67</td>\n",
       "      <td>14.67</td>\n",
       "      <td>29.0</td>\n",
       "      <td>37.0</td>\n",
       "      <td>...</td>\n",
       "      <td>NaN</td>\n",
       "      <td>34062.0</td>\n",
       "      <td>7075.0</td>\n",
       "      <td>1116630.0</td>\n",
       "      <td>4433.0</td>\n",
       "      <td>24788.0</td>\n",
       "      <td>21614.0</td>\n",
       "      <td>1640770.0</td>\n",
       "      <td>1.29799</td>\n",
       "      <td>NaN</td>\n",
       "    </tr>\n",
       "    <tr>\n",
       "      <td>20</td>\n",
       "      <td>3.0</td>\n",
       "      <td>75.4</td>\n",
       "      <td>11</td>\n",
       "      <td>1</td>\n",
       "      <td>1.0</td>\n",
       "      <td>6.0</td>\n",
       "      <td>27.33</td>\n",
       "      <td>40.33</td>\n",
       "      <td>20.0</td>\n",
       "      <td>17.0</td>\n",
       "      <td>...</td>\n",
       "      <td>NaN</td>\n",
       "      <td>25704.0</td>\n",
       "      <td>6729.0</td>\n",
       "      <td>875798.0</td>\n",
       "      <td>2050.0</td>\n",
       "      <td>12063.0</td>\n",
       "      <td>15374.0</td>\n",
       "      <td>1353520.0</td>\n",
       "      <td>NaN</td>\n",
       "      <td>NaN</td>\n",
       "    </tr>\n",
       "    <tr>\n",
       "      <td>22</td>\n",
       "      <td>1.0</td>\n",
       "      <td>84.5</td>\n",
       "      <td>18</td>\n",
       "      <td>0</td>\n",
       "      <td>0.0</td>\n",
       "      <td>0.0</td>\n",
       "      <td>5.00</td>\n",
       "      <td>7.00</td>\n",
       "      <td>28.0</td>\n",
       "      <td>51.0</td>\n",
       "      <td>...</td>\n",
       "      <td>NaN</td>\n",
       "      <td>18757.0</td>\n",
       "      <td>6080.0</td>\n",
       "      <td>948684.0</td>\n",
       "      <td>4190.0</td>\n",
       "      <td>14043.0</td>\n",
       "      <td>20076.0</td>\n",
       "      <td>1396070.0</td>\n",
       "      <td>1.27628</td>\n",
       "      <td>NaN</td>\n",
       "    </tr>\n",
       "  </tbody>\n",
       "</table>\n",
       "<p>5 rows × 24 columns</p>\n",
       "</div>"
      ],
      "text/plain": [
       "    DXCHANGE   AGE  PTEDUCAT PTMARRY  APOE4  CDRSB  ADAS11  ADAS13  MMSE  \\\n",
       "0        1.0  74.3        16       1    0.0    0.0   10.67   18.67  28.0   \n",
       "1        3.0  81.3        18       1    1.0    4.5   22.00   31.00  20.0   \n",
       "10       1.0  73.7        16       1    0.0    0.0    8.67   14.67  29.0   \n",
       "20       3.0  75.4        11       1    1.0    6.0   27.33   40.33  20.0   \n",
       "22       1.0  84.5        18       0    0.0    0.0    5.00    7.00  28.0   \n",
       "\n",
       "    RAVLT_immediate  ...  MOCA  Ventricles  Hippocampus  WholeBrain  \\\n",
       "0              44.0  ...   NaN    118233.0       8336.0   1229740.0   \n",
       "1              22.0  ...   NaN     84599.0       5319.0   1129830.0   \n",
       "10             37.0  ...   NaN     34062.0       7075.0   1116630.0   \n",
       "20             17.0  ...   NaN     25704.0       6729.0    875798.0   \n",
       "22             51.0  ...   NaN     18757.0       6080.0    948684.0   \n",
       "\n",
       "    Entorhinal  Fusiform  MidTemp        ICV      FDG  AV45  \n",
       "0       4177.0   16559.0  27936.0  1984660.0  1.36926   NaN  \n",
       "1       1791.0   15506.0  18422.0  1920690.0  1.09079   NaN  \n",
       "10      4433.0   24788.0  21614.0  1640770.0  1.29799   NaN  \n",
       "20      2050.0   12063.0  15374.0  1353520.0      NaN   NaN  \n",
       "22      4190.0   14043.0  20076.0  1396070.0  1.27628   NaN  \n",
       "\n",
       "[5 rows x 24 columns]"
      ]
     },
     "execution_count": 16,
     "metadata": {},
     "output_type": "execute_result"
    }
   ],
   "source": [
    "df1 = df_bl[df_bl.DXCHANGE != 2]\n",
    "df1.head()"
   ]
  },
  {
   "cell_type": "markdown",
   "metadata": {},
   "source": [
    "Several values are missing for many variables so they will be replaced by the mean of the respective variables."
   ]
  },
  {
   "cell_type": "code",
   "execution_count": 17,
   "metadata": {},
   "outputs": [],
   "source": [
    "df1 = df1.fillna(df1.mean())"
   ]
  },
  {
   "cell_type": "code",
   "execution_count": 18,
   "metadata": {},
   "outputs": [
    {
     "name": "stdout",
     "output_type": "stream",
     "text": [
      "CN : 0.6074766355140186\n",
      "AD : 0.3925233644859813\n"
     ]
    }
   ],
   "source": [
    "### Proportion of each diagnosis\n",
    "print(\"CN :\", len(df1[df1.DXCHANGE == 1])/len(df1))\n",
    "print(\"AD :\", len(df1[df1.DXCHANGE == 3])/len(df1))"
   ]
  },
  {
   "cell_type": "markdown",
   "metadata": {},
   "source": [
    "In order to build our classifier, we will use the popular SVM algorithm. The results of the model will be evaluated by its accuracy and its confusion matrix. The accuracy will then be compared to the above diagnosis distribution in order to compare the model to a random prediction.\n",
    "\n",
    "The hyper-parameters will also be optimized with the GridSearch fonction."
   ]
  },
  {
   "cell_type": "code",
   "execution_count": 19,
   "metadata": {},
   "outputs": [],
   "source": [
    "from sklearn import preprocessing\n",
    "from sklearn.model_selection import train_test_split\n",
    "\n",
    "from sklearn import svm\n",
    "from sklearn.model_selection import GridSearchCV\n",
    "\n",
    "from sklearn import metrics\n",
    "from sklearn.metrics import jaccard_similarity_score\n",
    "from sklearn.metrics import f1_score\n",
    "from sklearn.metrics import classification_report"
   ]
  },
  {
   "cell_type": "code",
   "execution_count": 20,
   "metadata": {},
   "outputs": [],
   "source": [
    "### Prepare datas for the model\n",
    "X = df1.drop(['DXCHANGE'], axis=1)\n",
    "X = sk.preprocessing.StandardScaler().fit(X).transform(X)\n",
    "Y = df1['DXCHANGE'].values"
   ]
  },
  {
   "cell_type": "code",
   "execution_count": 21,
   "metadata": {},
   "outputs": [],
   "source": [
    "### Split datas between train, cross-validation and test sets\n",
    "X_train, X_test, y_train, y_test = train_test_split( X, Y, test_size=0.2, random_state=4)"
   ]
  },
  {
   "cell_type": "code",
   "execution_count": 22,
   "metadata": {},
   "outputs": [
    {
     "name": "stdout",
     "output_type": "stream",
     "text": [
      "Accuracy on training set: 1.0\n",
      "Best parameters : {'C': 0.3, 'gamma': 0.001, 'kernel': 'linear'} \n",
      "\n",
      "Accuracy on test set: 1.0\n",
      "              precision    recall  f1-score   support\n",
      "\n",
      "         1.0       1.00      1.00      1.00       103\n",
      "         3.0       1.00      1.00      1.00        69\n",
      "\n",
      "    accuracy                           1.00       172\n",
      "   macro avg       1.00      1.00      1.00       172\n",
      "weighted avg       1.00      1.00      1.00       172\n",
      "\n"
     ]
    }
   ],
   "source": [
    "### SVM model\n",
    "\n",
    "# Train model\n",
    "SVM = svm.SVC()\n",
    "param_grid_SVM = [{'C': [0.01, 0.1, 0.3, 1, 10], 'gamma': [0.001], 'kernel': ['linear', 'rbf', 'sigmoid']}]\n",
    "\n",
    "# Search the best parameters\n",
    "gridSVM=GridSearchCV(SVM, param_grid=param_grid_SVM, cv=5)\n",
    "gridSVM.fit(X_train,y_train)\n",
    "print('Accuracy on training set:', gridSVM.best_score_)\n",
    "SVM_params = gridSVM.best_params_\n",
    "print('Best parameters :', gridSVM.best_params_, \"\\n\")\n",
    "\n",
    "# Train model with best parameters\n",
    "SVM = svm.SVC(C = SVM_params['C'], gamma = SVM_params['gamma'], kernel = SVM_params['kernel'])\n",
    "SVM.fit(X_train, y_train)\n",
    "yhat_SVM = SVM.predict(X_test)\n",
    "print('Accuracy on test set:', SVM.score(X_test, y_test))\n",
    "print (classification_report(y_test, yhat_SVM))"
   ]
  },
  {
   "cell_type": "markdown",
   "metadata": {},
   "source": [
    "The model achieves 100% sucess rate on the test set. This is a perfect score so there is nothing more to say..."
   ]
  },
  {
   "cell_type": "markdown",
   "metadata": {},
   "source": [
    "# Part 2: AD versus CN versus MCI at baseline\n",
    "\n",
    "The second task of the notebook is similar to the first one except that you add the intermediate status: subjects with Mild Cognitive Impairements (MCI). This is still a diagnosis exercise where you predict the \"DXCHANGE\" status from the other variables."
   ]
  },
  {
   "cell_type": "code",
   "execution_count": 23,
   "metadata": {},
   "outputs": [],
   "source": [
    "df2 = df_bl.copy(deep = True)\n",
    "df2 = df2.fillna(df2.mean())"
   ]
  },
  {
   "cell_type": "code",
   "execution_count": 24,
   "metadata": {},
   "outputs": [
    {
     "name": "stdout",
     "output_type": "stream",
     "text": [
      "CN : 0.3033838973162194\n",
      "MCI : 0.5005834305717619\n",
      "AD : 0.19603267211201866\n"
     ]
    }
   ],
   "source": [
    "### Proportion of each diagnosis\n",
    "print(\"CN :\", len(df2[df2.DXCHANGE == 1])/len(df2))\n",
    "print(\"MCI :\", len(df2[df2.DXCHANGE == 2])/len(df2))\n",
    "print(\"AD :\", len(df2[df2.DXCHANGE == 3])/len(df2))"
   ]
  },
  {
   "cell_type": "markdown",
   "metadata": {},
   "source": [
    "In this part, the model has to classify patients into three different categories instead of two. According to the graphs in the analysis part of this notebook, the datas are less separable when MCI status is taken into account. Consequently, the model's accuracy should be lower.\n",
    "\n",
    "We will start by evaluating the efficiency of the SVM model."
   ]
  },
  {
   "cell_type": "code",
   "execution_count": 25,
   "metadata": {},
   "outputs": [],
   "source": [
    "X = df2.drop(['DXCHANGE'], axis=1)\n",
    "X = preprocessing.StandardScaler().fit(X).transform(X)\n",
    "Y = df2['DXCHANGE'].values"
   ]
  },
  {
   "cell_type": "code",
   "execution_count": 26,
   "metadata": {},
   "outputs": [],
   "source": [
    "X_train, X_test, y_train, y_test = train_test_split( X, Y, test_size=0.2, random_state=4)\n",
    "X_train, X_cv, y_train, y_cv = train_test_split( X_train, y_train, test_size=0.2, random_state=4)"
   ]
  },
  {
   "cell_type": "code",
   "execution_count": 27,
   "metadata": {},
   "outputs": [
    {
     "name": "stdout",
     "output_type": "stream",
     "text": [
      "Accuracy on training set : 0.9233706932337068\n",
      "Best parameters : {'C': 10, 'gamma': 0.001, 'kernel': 'linear'} \n",
      "\n",
      "Accuracy on test set : 0.9329446064139941\n",
      "              precision    recall  f1-score   support\n",
      "\n",
      "         1.0       0.96      0.93      0.94        98\n",
      "         2.0       0.92      0.95      0.93       172\n",
      "         3.0       0.93      0.90      0.92        73\n",
      "\n",
      "    accuracy                           0.93       343\n",
      "   macro avg       0.94      0.93      0.93       343\n",
      "weighted avg       0.93      0.93      0.93       343\n",
      "\n"
     ]
    }
   ],
   "source": [
    "SVM = svm.SVC()\n",
    "param_grid_SVM = [{'C': [0.01, 0.1, 0.3, 1, 10], 'gamma': [0.001], 'kernel': ['linear', 'rbf', 'sigmoid']}]\n",
    "\n",
    "gridSVM=GridSearchCV(SVM, param_grid=param_grid_SVM, cv=5)\n",
    "gridSVM.fit(X_train,y_train)\n",
    "print('Accuracy on training set :', gridSVM.best_score_)\n",
    "SVM_params = gridSVM.best_params_\n",
    "print('Best parameters :', gridSVM.best_params_, \"\\n\")\n",
    "\n",
    "# Train model with best parameters\n",
    "SVM = svm.SVC(C = SVM_params['C'], gamma = SVM_params['gamma'], kernel = SVM_params['kernel'])\n",
    "SVM.fit(X_train, y_train)\n",
    "yhat_SVM = SVM.predict(X_test)\n",
    "print(\"Accuracy on test set :\", SVM.score(X_test, y_test))\n",
    "print (classification_report(y_test, yhat_SVM))"
   ]
  },
  {
   "cell_type": "markdown",
   "metadata": {},
   "source": [
    "The model achieved a 93,29% accuracy on the test set. We will try to do better with other models.\n",
    "\n",
    "First, we saw that simple rules (MOCA < 7, for example) could predict perfectly the diagnosis of a patient. So, trying a model based on a decision tree could be a good idea. The algorithm below will, in a first time, find the best max depth for the tree then build a final model."
   ]
  },
  {
   "cell_type": "code",
   "execution_count": 28,
   "metadata": {},
   "outputs": [
    {
     "data": {
      "image/png": "[encoded data removed]",
      "text/plain": [
       "<Figure size 432x288 with 1 Axes>"
      ]
     },
     "metadata": {
      "needs_background": "light"
     },
     "output_type": "display_data"
    },
    {
     "name": "stdout",
     "output_type": "stream",
     "text": [
      "Decision Tree's accuracy on training set (with max depth = 5 ) : 0.9236363636363636 \n",
      "\n",
      "Accuracy on test set :  0.9446064139941691\n",
      "              precision    recall  f1-score   support\n",
      "\n",
      "         1.0       1.00      0.92      0.96        98\n",
      "         2.0       0.91      0.99      0.95       172\n",
      "         3.0       0.97      0.88      0.92        73\n",
      "\n",
      "    accuracy                           0.94       343\n",
      "   macro avg       0.96      0.93      0.94       343\n",
      "weighted avg       0.95      0.94      0.94       343\n",
      "\n"
     ]
    }
   ],
   "source": [
    "# Train model\n",
    "from sklearn.tree import DecisionTreeClassifier\n",
    "K = 20\n",
    "accuracy = np.zeros((K-3))\n",
    "\n",
    "for depth in range(3,K) :\n",
    "    # Train model\n",
    "    LoanTree = DecisionTreeClassifier(criterion=\"entropy\", max_depth = depth)\n",
    "    LoanTree.fit(X_train,y_train)\n",
    "    \n",
    "    # Predict\n",
    "    yhat_Tree = LoanTree.predict(X_cv)\n",
    "    accuracy[depth-3] = metrics.accuracy_score(y_cv, yhat_Tree)\n",
    "\n",
    "# Display results\n",
    "plt.plot(range(3,K),accuracy,'g')\n",
    "plt.legend('Accuracy')\n",
    "plt.ylabel('Accuracy ')\n",
    "plt.xlabel('Max depth')\n",
    "plt.tight_layout()\n",
    "plt.show()\n",
    "print( \"Decision Tree's accuracy on training set (with max depth =\", accuracy.argmax()+3, \") :\", accuracy.max(), \"\\n\")\n",
    "\n",
    "# Train model with the best max_depth\n",
    "max_depth = accuracy.argmax()+1\n",
    "LoanTree = DecisionTreeClassifier(criterion=\"entropy\", max_depth = max_depth)\n",
    "LoanTree.fit(X_train,y_train)\n",
    "yhat_Tree = LoanTree.predict(X_test)\n",
    "print(\"Accuracy on test set : \", LoanTree.score(X_test, y_test))\n",
    "print (classification_report(y_test, yhat_Tree))"
   ]
  },
  {
   "cell_type": "markdown",
   "metadata": {},
   "source": [
    "Once again, the accuracy is very high : 94,16%.\n",
    "\n",
    "Since the algorithm is slightly better at classifying CN than AD, maybe a one vs all classifier would perform better. So an algorithm of that type based on a SVM algorithm will be implemented just below."
   ]
  },
  {
   "cell_type": "code",
   "execution_count": 29,
   "metadata": {},
   "outputs": [
    {
     "name": "stdout",
     "output_type": "stream",
     "text": [
      "Accuracy on test set : 0.9358600583090378\n"
     ]
    }
   ],
   "source": [
    "probs = np.zeros((len(y_test),3))\n",
    "l = 0\n",
    "for i,j in [[2,3],[1,3],[1,2]] :\n",
    "    \n",
    "    y_train_new = np.copy(y_train)\n",
    "    for k in range(len(y_train_new)) :\n",
    "        if y_train_new[k] == i or y_train_new[k] == j :\n",
    "            y_train_new[k] = 4\n",
    "    \n",
    "    # Train model with best parameters\n",
    "    SVM = svm.SVC(C = 10, gamma = 0.001, kernel = 'linear', probability=True)\n",
    "    SVM.fit(X_train, y_train_new)\n",
    "    probs[:,l] = SVM.predict_proba(X_test)[:,0]\n",
    "    #print(SVM.predict(X_test)[0:5])\n",
    "    #print(SVM.predict_proba(X_test)[0:5,:])\n",
    "    l += 1\n",
    "    #print (classification_report(y_test, yhat_SVM))\n",
    "    \n",
    "pred = np.argmax(probs, axis = 1)\n",
    "accuracy = np.sum(pred == (y_test-1))/len(pred)\n",
    "print(\"Accuracy on test set :\", accuracy)"
   ]
  },
  {
   "cell_type": "markdown",
   "metadata": {},
   "source": [
    "The accuracy is similar to the SVM algorithm.\n",
    "\n",
    "Since machine learning classifiers doesn't seem to be able to achieve a better accuracy, we will try a deep learning algorithm : a neural network. In order to find the best architecture, xe will test several values for the regularization parameter alpha, the number of neurons in each layer and the number of layers."
   ]
  },
  {
   "cell_type": "code",
   "execution_count": 30,
   "metadata": {},
   "outputs": [],
   "source": [
    "from sklearn.neural_network import MLPClassifier"
   ]
  },
  {
   "cell_type": "code",
   "execution_count": 31,
   "metadata": {},
   "outputs": [
    {
     "name": "stdout",
     "output_type": "stream",
     "text": [
      "alpha =  1   ls = ( 4 ,  4 )  :   0.9381818181818182\n",
      "alpha =  1   ls = ( 4 ,  4 ,  4 )  :   0.92\n",
      "alpha =  1   ls = ( 4 ,  4 ,  4 ,  4 )  :   0.92\n",
      "alpha =  1   ls = ( 8 ,  8 )  :   0.9272727272727272\n",
      "alpha =  1   ls = ( 8 ,  8 ,  8 )  :   0.8872727272727273\n",
      "alpha =  1   ls = ( 8 ,  8 ,  8 ,  8 )  :   0.8945454545454545\n",
      "alpha =  1   ls = ( 12 ,  12 )  :   0.9236363636363636\n",
      "alpha =  1   ls = ( 12 ,  12 ,  12 )  :   0.9090909090909091\n",
      "alpha =  1   ls = ( 12 ,  12 ,  12 ,  12 )  :   0.8909090909090909\n",
      "alpha =  0.3   ls = ( 4 ,  4 )  :   0.9381818181818182\n",
      "alpha =  0.3   ls = ( 4 ,  4 ,  4 )  :   0.92\n",
      "alpha =  0.3   ls = ( 4 ,  4 ,  4 ,  4 )  :   0.92\n",
      "alpha =  0.3   ls = ( 8 ,  8 )  :   0.8872727272727273\n",
      "alpha =  0.3   ls = ( 8 ,  8 ,  8 )  :   0.88\n",
      "alpha =  0.3   ls = ( 8 ,  8 ,  8 ,  8 )  :   0.8872727272727273\n",
      "alpha =  0.3   ls = ( 12 ,  12 )  :   0.9018181818181819\n",
      "alpha =  0.3   ls = ( 12 ,  12 ,  12 )  :   0.8945454545454545\n"
     ]
    },
    {
     "name": "stderr",
     "output_type": "stream",
     "text": [
      "C:\\Users\\Geoffrey\\Anaconda3\\lib\\site-packages\\sklearn\\neural_network\\_multilayer_perceptron.py:571: ConvergenceWarning: Stochastic Optimizer: Maximum iterations (800) reached and the optimization hasn't converged yet.\n",
      "  % self.max_iter, ConvergenceWarning)\n"
     ]
    },
    {
     "name": "stdout",
     "output_type": "stream",
     "text": [
      "alpha =  0.3   ls = ( 12 ,  12 ,  12 ,  12 )  :   0.8545454545454545\n",
      "alpha =  0.1   ls = ( 4 ,  4 )  :   0.9163636363636364\n",
      "alpha =  0.1   ls = ( 4 ,  4 ,  4 )  :   0.9163636363636364\n",
      "alpha =  0.1   ls = ( 4 ,  4 ,  4 ,  4 )  :   0.9127272727272727\n"
     ]
    },
    {
     "name": "stderr",
     "output_type": "stream",
     "text": [
      "C:\\Users\\Geoffrey\\Anaconda3\\lib\\site-packages\\sklearn\\neural_network\\_multilayer_perceptron.py:571: ConvergenceWarning: Stochastic Optimizer: Maximum iterations (1000) reached and the optimization hasn't converged yet.\n",
      "  % self.max_iter, ConvergenceWarning)\n"
     ]
    },
    {
     "name": "stdout",
     "output_type": "stream",
     "text": [
      "alpha =  0.1   ls = ( 8 ,  8 )  :   0.8727272727272727\n",
      "alpha =  0.1   ls = ( 8 ,  8 ,  8 )  :   0.8763636363636363\n",
      "alpha =  0.1   ls = ( 8 ,  8 ,  8 ,  8 )  :   0.88\n",
      "alpha =  0.1   ls = ( 12 ,  12 )  :   0.8836363636363637\n",
      "alpha =  0.1   ls = ( 12 ,  12 ,  12 )  :   0.8727272727272727\n",
      "alpha =  0.1   ls = ( 12 ,  12 ,  12 ,  12 )  :   0.8763636363636363\n",
      "alpha =  0.01   ls = ( 4 ,  4 )  :   0.9163636363636364\n",
      "alpha =  0.01   ls = ( 4 ,  4 ,  4 )  :   0.92\n",
      "alpha =  0.01   ls = ( 4 ,  4 ,  4 ,  4 )  :   0.9090909090909091\n"
     ]
    },
    {
     "name": "stderr",
     "output_type": "stream",
     "text": [
      "C:\\Users\\Geoffrey\\Anaconda3\\lib\\site-packages\\sklearn\\neural_network\\_multilayer_perceptron.py:571: ConvergenceWarning: Stochastic Optimizer: Maximum iterations (1000) reached and the optimization hasn't converged yet.\n",
      "  % self.max_iter, ConvergenceWarning)\n"
     ]
    },
    {
     "name": "stdout",
     "output_type": "stream",
     "text": [
      "alpha =  0.01   ls = ( 8 ,  8 )  :   0.8690909090909091\n",
      "alpha =  0.01   ls = ( 8 ,  8 ,  8 )  :   0.8690909090909091\n",
      "alpha =  0.01   ls = ( 8 ,  8 ,  8 ,  8 )  :   0.88\n",
      "alpha =  0.01   ls = ( 12 ,  12 )  :   0.88\n",
      "alpha =  0.01   ls = ( 12 ,  12 ,  12 )  :   0.8690909090909091\n",
      "alpha =  0.01   ls = ( 12 ,  12 ,  12 ,  12 )  :   0.8654545454545455\n"
     ]
    }
   ],
   "source": [
    "for alpha in [1, 0.3, 0.1, 0.01] :\n",
    "    for ls in [4, 8, 12] :\n",
    "        # 2 layers\n",
    "        clf = MLPClassifier(hidden_layer_sizes=(ls,ls), activation='tanh', solver='adam',\n",
    "                            alpha=alpha, random_state=1, max_iter = 1000)\n",
    "        clf.fit(X_train, y_train)\n",
    "        print(\"alpha = \", alpha, \"  ls = (\", ls, \", \", ls, \")  :  \", clf.score(X_cv, y_cv))\n",
    "        \n",
    "        # 3 layers\n",
    "        clf = MLPClassifier(hidden_layer_sizes=(ls,ls,ls), activation='tanh', solver='adam',\n",
    "                            alpha=alpha, random_state=1, max_iter = 1000)\n",
    "        clf.fit(X_train, y_train)\n",
    "        print(\"alpha = \", alpha, \"  ls = (\", ls, \", \", ls, \", \", ls, \")  :  \", clf.score(X_cv, y_cv))\n",
    "        \n",
    "        # 4 layers\n",
    "        clf = MLPClassifier(hidden_layer_sizes=(ls,ls,ls,ls), activation='tanh', solver='adam',\n",
    "                            alpha=alpha, random_state=1, max_iter = 800)\n",
    "        clf.fit(X_train, y_train)\n",
    "        print(\"alpha = \", alpha, \"  ls = (\", ls, \", \", ls, \", \", ls, \", \", ls, \")  :  \", clf.score(X_cv, y_cv))"
   ]
  },
  {
   "cell_type": "code",
   "execution_count": 32,
   "metadata": {},
   "outputs": [
    {
     "name": "stdout",
     "output_type": "stream",
     "text": [
      "Neural network\n",
      "alpha =  1   layers = ( 4 ,  4 )\n",
      "Accuracy on test set : 0.9183673469387755\n"
     ]
    }
   ],
   "source": [
    "alpha = 1\n",
    "ls = 4\n",
    "clf = MLPClassifier(hidden_layer_sizes=(ls,ls), activation='tanh', solver='adam',\n",
    "                            alpha=alpha, random_state=1, max_iter = 1000)\n",
    "clf.fit(X_train, y_train)\n",
    "print(\"Neural network\")\n",
    "print(\"alpha = \", alpha, \"  layers = (\", ls, \", \", ls, \")\")\n",
    "print(\"Accuracy on test set :\", clf.score(X_test, y_test))"
   ]
  },
  {
   "cell_type": "markdown",
   "metadata": {},
   "source": [
    "The experiments above show that a neural network with 2 hidden layers of 4 neurons has an accuracy of 91,8% on the test set which is little bit lower compared to the Decision tree and the SVM models."
   ]
  },
  {
   "cell_type": "markdown",
   "metadata": {},
   "source": [
    "# Part 3: AD versus CN versus MCI in 3 years\n",
    "\n",
    "Here, the task is not to diagnose the status from the other value at the same visit, but to split the individual visits into past and future ones. You will use any variables from the past to predict the status (CN, AD or MCI) of the patients 3 years ahead of time.\n",
    "\n",
    "Here, you should only consider one visit in the past and predict one status 3 years ahead.\n",
    "\n",
    "NB: You can reprocude the experiments by choosing other temporal horizons such as 2, 4 or 5 years."
   ]
  },
  {
   "cell_type": "markdown",
   "metadata": {},
   "source": [
    "First, we need to create a new dataset where the DXCHANGE value of a patient at time t is replaced by its DXCHANGE three yers ahead."
   ]
  },
  {
   "cell_type": "code",
   "execution_count": 33,
   "metadata": {},
   "outputs": [],
   "source": [
    "def prepare_pred_df(init_df, date1, date2) :\n",
    "    # Create a new dataset containing the patients still followed 3 years after date1\n",
    "    m36 = init_df[init_df.VISCODE == date2]\n",
    "\n",
    "    # Get their RID number\n",
    "    rid = m36['RID'].to_numpy()\n",
    "\n",
    "    # Select in the original dataset the patients that have been followed during 3 years from date1\n",
    "    df = init_df[init_df.VISCODE == date1]\n",
    "    rid = np.intersect1d(rid, df['RID'].to_numpy())\n",
    "    df = df[df['RID'].isin(rid)]\n",
    "    m36 = m36[m36['RID'].isin(rid)]\n",
    "\n",
    "    # Use the RID as index for the two datasets\n",
    "    df = df.set_index('RID')\n",
    "    m36 = m36.set_index('RID')\n",
    "\n",
    "    # Swap the DXCHANGE values\n",
    "    df['DXCHANGE'] = m36['DXCHANGE'].to_numpy()\n",
    "    \n",
    "    df = df[selected_vars]\n",
    "    \n",
    "    return df"
   ]
  },
  {
   "cell_type": "code",
   "execution_count": 34,
   "metadata": {},
   "outputs": [],
   "source": [
    "df3 = pd.concat([prepare_pred_df(df,'bl','m36'),\n",
    "                prepare_pred_df(df,'m12','m48'),\n",
    "                prepare_pred_df(df,'m24','m60'),\n",
    "                prepare_pred_df(df,'m36','m72')\n",
    "                ], axis = 0, sort = False)"
   ]
  },
  {
   "cell_type": "code",
   "execution_count": 35,
   "metadata": {},
   "outputs": [
    {
     "name": "stdout",
     "output_type": "stream",
     "text": [
      "(1680, 27)\n",
      "2.0    766\n",
      "1.0    613\n",
      "3.0    301\n",
      "Name: DXCHANGE, dtype: int64\n"
     ]
    }
   ],
   "source": [
    "print(df3.shape)\n",
    "print(df3.DXCHANGE.value_counts())"
   ]
  },
  {
   "cell_type": "markdown",
   "metadata": {},
   "source": [
    "Let's take a look at the graphs of the selected variables."
   ]
  },
  {
   "cell_type": "code",
   "execution_count": 36,
   "metadata": {},
   "outputs": [
    {
     "name": "stdout",
     "output_type": "stream",
     "text": [
      "count    1664.000000\n",
      "mean        1.084135\n",
      "std         1.315119\n",
      "min         0.000000\n",
      "25%         0.000000\n",
      "50%         0.500000\n",
      "75%         1.500000\n",
      "max        10.000000\n",
      "Name: CDRSB, dtype: float64\n"
     ]
    },
    {
     "data": {
      "image/png": "[encoded data removed]",
      "text/plain": [
       "<Figure size 432x288 with 1 Axes>"
      ]
     },
     "metadata": {
      "needs_background": "light"
     },
     "output_type": "display_data"
    },
    {
     "name": "stdout",
     "output_type": "stream",
     "text": [
      "\n",
      "count    1678.000000\n",
      "mean        8.178570\n",
      "std         4.914939\n",
      "min         0.000000\n",
      "25%         4.670000\n",
      "50%         7.000000\n",
      "75%        11.000000\n",
      "max        37.000000\n",
      "Name: ADAS11, dtype: float64\n"
     ]
    },
    {
     "data": {
      "image/png": "[encoded data removed]",
      "text/plain": [
       "<Figure size 432x288 with 1 Axes>"
      ]
     },
     "metadata": {
      "needs_background": "light"
     },
     "output_type": "display_data"
    },
    {
     "name": "stdout",
     "output_type": "stream",
     "text": [
      "\n",
      "count    1666.000000\n",
      "mean       13.074610\n",
      "std         7.463176\n",
      "min         0.330000\n",
      "25%         7.330000\n",
      "50%        12.000000\n",
      "75%        17.670000\n",
      "max        48.000000\n",
      "Name: ADAS13, dtype: float64\n"
     ]
    },
    {
     "data": {
      "image/png": "[encoded data removed]",
      "text/plain": [
       "<Figure size 432x288 with 1 Axes>"
      ]
     },
     "metadata": {
      "needs_background": "light"
     },
     "output_type": "display_data"
    },
    {
     "name": "stdout",
     "output_type": "stream",
     "text": [
      "\n",
      "count    1680.000000\n",
      "mean       28.061310\n",
      "std         2.162638\n",
      "min        12.000000\n",
      "25%        27.000000\n",
      "50%        29.000000\n",
      "75%        30.000000\n",
      "max        30.000000\n",
      "Name: MMSE, dtype: float64\n"
     ]
    },
    {
     "data": {
      "image/png": "[encoded data removed]",
      "text/plain": [
       "<Figure size 432x288 with 1 Axes>"
      ]
     },
     "metadata": {
      "needs_background": "light"
     },
     "output_type": "display_data"
    },
    {
     "name": "stdout",
     "output_type": "stream",
     "text": [
      "\n",
      "count    1677.000000\n",
      "mean       38.683363\n",
      "std        11.695798\n",
      "min         7.000000\n",
      "25%        30.000000\n",
      "50%        38.000000\n",
      "75%        47.000000\n",
      "max        72.000000\n",
      "Name: RAVLT_immediate, dtype: float64\n"
     ]
    },
    {
     "data": {
      "image/png": "[encoded data removed]",
      "text/plain": [
       "<Figure size 432x288 with 1 Axes>"
      ]
     },
     "metadata": {
      "needs_background": "light"
     },
     "output_type": "display_data"
    },
    {
     "name": "stdout",
     "output_type": "stream",
     "text": [
      "\n",
      "count    1677.000000\n",
      "mean        4.876565\n",
      "std         2.733755\n",
      "min        -4.000000\n",
      "25%         3.000000\n",
      "50%         5.000000\n",
      "75%         7.000000\n",
      "max        14.000000\n",
      "Name: RAVLT_learning, dtype: float64\n"
     ]
    },
    {
     "data": {
      "image/png": "[encoded data removed]",
      "text/plain": [
       "<Figure size 432x288 with 1 Axes>"
      ]
     },
     "metadata": {
      "needs_background": "light"
     },
     "output_type": "display_data"
    },
    {
     "name": "stdout",
     "output_type": "stream",
     "text": [
      "\n",
      "count    1674.000000\n",
      "mean        4.183990\n",
      "std         2.656386\n",
      "min       -10.000000\n",
      "25%         2.000000\n",
      "50%         4.000000\n",
      "75%         6.000000\n",
      "max        14.000000\n",
      "Name: RAVLT_forgetting, dtype: float64\n"
     ]
    },
    {
     "data": {
      "image/png": "[encoded data removed]",
      "text/plain": [
       "<Figure size 432x288 with 1 Axes>"
      ]
     },
     "metadata": {
      "needs_background": "light"
     },
     "output_type": "display_data"
    },
    {
     "name": "stdout",
     "output_type": "stream",
     "text": [
      "\n",
      "count    1672.000000\n",
      "mean       49.534862\n",
      "std        38.430800\n",
      "min      -500.000000\n",
      "25%        22.222200\n",
      "50%        45.454500\n",
      "75%        80.000000\n",
      "max       100.000000\n",
      "Name: RAVLT_perc_forgetting, dtype: float64\n"
     ]
    },
    {
     "data": {
      "image/png": "[encoded data removed]",
      "text/plain": [
       "<Figure size 432x288 with 1 Axes>"
      ]
     },
     "metadata": {
      "needs_background": "light"
     },
     "output_type": "display_data"
    },
    {
     "name": "stdout",
     "output_type": "stream",
     "text": [
      "\n",
      "count    1672.000000\n",
      "mean        2.547249\n",
      "std         4.636665\n",
      "min         0.000000\n",
      "25%         0.000000\n",
      "50%         0.000000\n",
      "75%         3.000000\n",
      "max        27.000000\n",
      "Name: FAQ, dtype: float64\n"
     ]
    },
    {
     "data": {
      "image/png": "[encoded data removed]",
      "text/plain": [
       "<Figure size 432x288 with 1 Axes>"
      ]
     },
     "metadata": {
      "needs_background": "light"
     },
     "output_type": "display_data"
    },
    {
     "name": "stdout",
     "output_type": "stream",
     "text": [
      "\n",
      "count    679.000000\n",
      "mean      24.298969\n",
      "std        3.153943\n",
      "min        7.000000\n",
      "25%       22.000000\n",
      "50%       24.000000\n",
      "75%       26.000000\n",
      "max       30.000000\n",
      "Name: MOCA, dtype: float64\n"
     ]
    },
    {
     "data": {
      "image/png": "[encoded data removed]",
      "text/plain": [
       "<Figure size 432x288 with 1 Axes>"
      ]
     },
     "metadata": {
      "needs_background": "light"
     },
     "output_type": "display_data"
    },
    {
     "name": "stdout",
     "output_type": "stream",
     "text": [
      "\n"
     ]
    }
   ],
   "source": [
    "### Cognitive tests\n",
    "for col in cognitive_tests :\n",
    "    print(df3[col].describe())\n",
    "    plt.scatter(df3[col], df3.DXCHANGE)\n",
    "    plt.show()\n",
    "    print()"
   ]
  },
  {
   "cell_type": "code",
   "execution_count": 37,
   "metadata": {},
   "outputs": [
    {
     "name": "stdout",
     "output_type": "stream",
     "text": [
      "count      1543.000000\n",
      "mean      37865.967596\n",
      "std       21495.921670\n",
      "min        5650.000000\n",
      "25%       22524.500000\n",
      "50%       32847.000000\n",
      "75%       47451.500000\n",
      "max      146860.000000\n",
      "Name: Ventricles, dtype: float64\n"
     ]
    },
    {
     "data": {
      "image/png": "[encoded data removed]",
      "text/plain": [
       "<Figure size 432x288 with 1 Axes>"
      ]
     },
     "metadata": {
      "needs_background": "light"
     },
     "output_type": "display_data"
    },
    {
     "name": "stdout",
     "output_type": "stream",
     "text": [
      "\n",
      "count     1371.000000\n",
      "mean      7012.727936\n",
      "std       1136.070673\n",
      "min       2961.000000\n",
      "25%       6244.000000\n",
      "50%       7084.000000\n",
      "75%       7773.500000\n",
      "max      11041.000000\n",
      "Name: Hippocampus, dtype: float64\n"
     ]
    },
    {
     "data": {
      "image/png": "[encoded data removed]",
      "text/plain": [
       "<Figure size 432x288 with 1 Axes>"
      ]
     },
     "metadata": {
      "needs_background": "light"
     },
     "output_type": "display_data"
    },
    {
     "name": "stdout",
     "output_type": "stream",
     "text": [
      "\n",
      "count    1.575000e+03\n",
      "mean     1.028094e+06\n",
      "std      1.086589e+05\n",
      "min      7.378920e+05\n",
      "25%      9.510875e+05\n",
      "50%      1.028940e+06\n",
      "75%      1.099675e+06\n",
      "max      1.443990e+06\n",
      "Name: WholeBrain, dtype: float64\n"
     ]
    },
    {
     "data": {
      "image/png": "[encoded data removed]",
      "text/plain": [
       "<Figure size 432x288 with 1 Axes>"
      ]
     },
     "metadata": {
      "needs_background": "light"
     },
     "output_type": "display_data"
    },
    {
     "name": "stdout",
     "output_type": "stream",
     "text": [
      "\n",
      "count    1347.000000\n",
      "mean     3649.137342\n",
      "std       748.720003\n",
      "min      1558.000000\n",
      "25%      3164.500000\n",
      "50%      3683.000000\n",
      "75%      4144.500000\n",
      "max      5934.000000\n",
      "Name: Entorhinal, dtype: float64\n"
     ]
    },
    {
     "data": {
      "image/png": "[encoded data removed]",
      "text/plain": [
       "<Figure size 432x288 with 1 Axes>"
      ]
     },
     "metadata": {
      "needs_background": "light"
     },
     "output_type": "display_data"
    },
    {
     "name": "stdout",
     "output_type": "stream",
     "text": [
      "\n",
      "count     1347.000000\n",
      "mean     17689.204157\n",
      "std       2620.206333\n",
      "min       9610.000000\n",
      "25%      16016.500000\n",
      "50%      17547.000000\n",
      "75%      19278.000000\n",
      "max      29950.000000\n",
      "Name: Fusiform, dtype: float64\n"
     ]
    },
    {
     "data": {
      "image/png": "[encoded data removed]",
      "text/plain": [
       "<Figure size 432x288 with 1 Axes>"
      ]
     },
     "metadata": {
      "needs_background": "light"
     },
     "output_type": "display_data"
    },
    {
     "name": "stdout",
     "output_type": "stream",
     "text": [
      "\n",
      "count     1347.000000\n",
      "mean     19913.093541\n",
      "std       2799.694062\n",
      "min      10234.000000\n",
      "25%      18075.500000\n",
      "50%      19839.000000\n",
      "75%      21882.000000\n",
      "max      29292.000000\n",
      "Name: MidTemp, dtype: float64\n"
     ]
    },
    {
     "data": {
      "image/png": "[encoded data removed]",
      "text/plain": [
       "<Figure size 432x288 with 1 Axes>"
      ]
     },
     "metadata": {
      "needs_background": "light"
     },
     "output_type": "display_data"
    },
    {
     "name": "stdout",
     "output_type": "stream",
     "text": [
      "\n",
      "count    1.601000e+03\n",
      "mean     1.537400e+06\n",
      "std      1.629186e+05\n",
      "min      7.161330e+05\n",
      "25%      1.429400e+06\n",
      "50%      1.525920e+06\n",
      "75%      1.643370e+06\n",
      "max      2.072470e+06\n",
      "Name: ICV, dtype: float64\n"
     ]
    },
    {
     "data": {
      "image/png": "[encoded data removed]",
      "text/plain": [
       "<Figure size 432x288 with 1 Axes>"
      ]
     },
     "metadata": {
      "needs_background": "light"
     },
     "output_type": "display_data"
    },
    {
     "name": "stdout",
     "output_type": "stream",
     "text": [
      "\n"
     ]
    }
   ],
   "source": [
    "### Imaging tests\n",
    "for col in imaging_vars :\n",
    "    print(df3[col].describe())\n",
    "    plt.scatter(df3[col], df3.DXCHANGE)\n",
    "    plt.show()\n",
    "    print()"
   ]
  },
  {
   "cell_type": "code",
   "execution_count": 38,
   "metadata": {},
   "outputs": [
    {
     "name": "stdout",
     "output_type": "stream",
     "text": [
      "count    801.000000\n",
      "mean       1.267338\n",
      "std        0.133671\n",
      "min        0.782496\n",
      "25%        1.183420\n",
      "50%        1.265300\n",
      "75%        1.348240\n",
      "max        1.753320\n",
      "Name: FDG, dtype: float64\n"
     ]
    },
    {
     "data": {
      "image/png": "[encoded data removed]",
      "text/plain": [
       "<Figure size 432x288 with 1 Axes>"
      ]
     },
     "metadata": {
      "needs_background": "light"
     },
     "output_type": "display_data"
    },
    {
     "name": "stdout",
     "output_type": "stream",
     "text": [
      "\n",
      "count    78.000000\n",
      "mean      1.704679\n",
      "std       0.455182\n",
      "min       1.095000\n",
      "25%       1.294375\n",
      "50%       1.625000\n",
      "75%       2.135625\n",
      "max       2.637500\n",
      "Name: PIB, dtype: float64\n"
     ]
    },
    {
     "data": {
      "image/png": "[encoded data removed]",
      "text/plain": [
       "<Figure size 432x288 with 1 Axes>"
      ]
     },
     "metadata": {
      "needs_background": "light"
     },
     "output_type": "display_data"
    },
    {
     "name": "stdout",
     "output_type": "stream",
     "text": [
      "\n",
      "count    384.000000\n",
      "mean       1.171001\n",
      "std        0.205659\n",
      "min        0.838537\n",
      "25%        1.011335\n",
      "50%        1.084595\n",
      "75%        1.305417\n",
      "max        1.856980\n",
      "Name: AV45, dtype: float64\n"
     ]
    },
    {
     "data": {
      "image/png": "[encoded data removed]",
      "text/plain": [
       "<Figure size 432x288 with 1 Axes>"
      ]
     },
     "metadata": {
      "needs_background": "light"
     },
     "output_type": "display_data"
    },
    {
     "name": "stdout",
     "output_type": "stream",
     "text": [
      "\n"
     ]
    }
   ],
   "source": [
    "### Radio tracers\n",
    "for col in radio_tracers :\n",
    "    print(df3[col].describe())\n",
    "    plt.scatter(df3[col], df3.DXCHANGE)\n",
    "    plt.show()\n",
    "    print()"
   ]
  },
  {
   "cell_type": "markdown",
   "metadata": {},
   "source": [
    "The data distribution seems rather homogeneous for most of the variables. It will probably be difficult to classify accuratly the patients. In order to prevent synthetic datas to interfere with the model, we will remove the variables which have too many NaN values (MOCA, AV45, PIB)."
   ]
  },
  {
   "cell_type": "code",
   "execution_count": 39,
   "metadata": {},
   "outputs": [],
   "source": [
    "df3 = clean_df(df3)\n",
    "df3 = df3.drop(['MOCA', 'AV45'], axis = 1)"
   ]
  },
  {
   "cell_type": "code",
   "execution_count": 40,
   "metadata": {},
   "outputs": [],
   "source": [
    "df3 = df3.fillna(df3.mean())"
   ]
  },
  {
   "cell_type": "code",
   "execution_count": 41,
   "metadata": {},
   "outputs": [
    {
     "name": "stdout",
     "output_type": "stream",
     "text": [
      "CN : 0.3652694610778443\n",
      "MCI : 0.4562874251497006\n",
      "AD : 0.1784431137724551\n"
     ]
    }
   ],
   "source": [
    "### Proportion of each diagnosis\n",
    "print(\"CN :\", len(df3[df3.DXCHANGE == 1])/len(df3))\n",
    "print(\"MCI :\", len(df3[df3.DXCHANGE == 2])/len(df3))\n",
    "print(\"AD :\", len(df3[df3.DXCHANGE == 3])/len(df3))"
   ]
  },
  {
   "cell_type": "code",
   "execution_count": 42,
   "metadata": {},
   "outputs": [],
   "source": [
    "### Preparation of the datas\n",
    "X = df3.drop(['DXCHANGE'], axis=1)\n",
    "X = sk.preprocessing.StandardScaler().fit(X).transform(X)\n",
    "Y = df3['DXCHANGE'].values\n",
    "\n",
    "X_train, X_test, y_train, y_test = train_test_split( X, Y, test_size=0.2, random_state=4)"
   ]
  },
  {
   "cell_type": "markdown",
   "metadata": {},
   "source": [
    "Like in the previous part, we will try the SVM model and a neural network. Each time, we will try to optimize the hyper-parameters."
   ]
  },
  {
   "cell_type": "markdown",
   "metadata": {},
   "source": [
    "SVM"
   ]
  },
  {
   "cell_type": "code",
   "execution_count": 43,
   "metadata": {},
   "outputs": [
    {
     "name": "stdout",
     "output_type": "stream",
     "text": [
      "Accuracy on training set : 0.4790597573928112\n",
      "Best parameters : {'C': 0.1, 'gamma': 0.001, 'kernel': 'linear'} \n",
      "\n",
      "Accuracy on test set :  0.4491017964071856\n",
      "              precision    recall  f1-score   support\n",
      "\n",
      "         1.0       0.41      0.38      0.39       125\n",
      "         2.0       0.47      0.66      0.55       155\n",
      "         3.0       0.00      0.00      0.00        54\n",
      "\n",
      "    accuracy                           0.45       334\n",
      "   macro avg       0.29      0.35      0.31       334\n",
      "weighted avg       0.37      0.45      0.40       334\n",
      "\n"
     ]
    },
    {
     "name": "stderr",
     "output_type": "stream",
     "text": [
      "C:\\Users\\Geoffrey\\Anaconda3\\lib\\site-packages\\sklearn\\metrics\\_classification.py:1272: UndefinedMetricWarning: Precision and F-score are ill-defined and being set to 0.0 in labels with no predicted samples. Use `zero_division` parameter to control this behavior.\n",
      "  _warn_prf(average, modifier, msg_start, len(result))\n"
     ]
    }
   ],
   "source": [
    "SVM = svm.SVC()\n",
    "param_grid_SVM = [{'C': [0.01, 0.1, 0.3, 1, 10], 'gamma': [0.001], 'kernel': ['linear', 'rbf', 'sigmoid']}]\n",
    "\n",
    "gridSVM=GridSearchCV(SVM, param_grid=param_grid_SVM, cv=5)\n",
    "gridSVM.fit(X_train,y_train)\n",
    "print('Accuracy on training set :', gridSVM.best_score_)\n",
    "SVM_params = gridSVM.best_params_\n",
    "print('Best parameters :', gridSVM.best_params_, \"\\n\")\n",
    "\n",
    "# Train model with best parameters\n",
    "SVM = svm.SVC(C = SVM_params['C'], gamma = SVM_params['gamma'], kernel = SVM_params['kernel'])\n",
    "SVM.fit(X_train, y_train)\n",
    "yhat_SVM = SVM.predict(X_test)\n",
    "print(\"Accuracy on test set : \", SVM.score(X_test, y_test))\n",
    "print (classification_report(y_test, yhat_SVM))"
   ]
  },
  {
   "cell_type": "code",
   "execution_count": 44,
   "metadata": {},
   "outputs": [
    {
     "data": {
      "text/plain": [
       "array([1., 2., 1., 1., 2., 2., 1., 2., 2., 2., 2., 2., 2., 1., 2., 2., 2.,\n",
       "       1., 2., 1., 1., 1., 1., 2., 2., 2., 2., 1., 2., 2., 2., 2., 1., 2.,\n",
       "       2., 2., 2., 2., 2., 2., 2., 2., 2., 2., 2., 2., 2., 1., 2., 2., 1.,\n",
       "       2., 2., 2., 2., 2., 2., 2., 2., 1., 1., 1., 2., 1., 1., 1., 2., 2.,\n",
       "       2., 2., 2., 1., 2., 1., 2., 2., 1., 2., 2., 1., 2., 1., 2., 1., 2.,\n",
       "       2., 2., 1., 1., 1., 2., 1., 2., 1., 2., 1., 2., 1., 2., 2., 2., 2.,\n",
       "       2., 2., 1., 2., 2., 2., 2., 2., 2., 2., 2., 1., 2., 2., 2., 1., 2.,\n",
       "       2., 2., 2., 2., 1., 1., 2., 1., 1., 1., 2., 2., 2., 2., 2., 2., 2.,\n",
       "       2., 2., 2., 2., 1., 2., 2., 2., 2., 2., 1., 2., 2., 2., 1., 2., 1.,\n",
       "       2., 1., 1., 1., 2., 2., 1., 1., 2., 1., 2., 2., 2., 2., 1., 1., 2.,\n",
       "       1., 1., 2., 2., 2., 1., 1., 2., 2., 1., 2., 2., 2., 1., 2., 2., 1.,\n",
       "       1., 1., 1., 2., 2., 2., 2., 2., 1., 2., 1., 2., 1., 1., 1., 2., 2.,\n",
       "       1., 2., 1., 2., 1., 1., 2., 1., 1., 2., 1., 2., 2., 2., 1., 2., 2.,\n",
       "       1., 2., 1., 2., 2., 1., 2., 2., 1., 2., 1., 1., 1., 1., 2., 1., 1.,\n",
       "       2., 2., 1., 2., 2., 2., 2., 2., 1., 2., 2., 2., 1., 2., 1., 1., 2.,\n",
       "       2., 2., 2., 2., 2., 2., 2., 1., 2., 1., 1., 2., 1., 2., 1., 2., 2.,\n",
       "       1., 2., 1., 2., 1., 2., 2., 2., 2., 2., 2., 1., 2., 1., 2., 1., 2.,\n",
       "       2., 1., 2., 1., 2., 1., 1., 2., 2., 2., 1., 2., 1., 2., 1., 2., 1.,\n",
       "       2., 2., 2., 2., 2., 2., 2., 2., 2., 2., 2., 2., 1., 2., 2., 1., 2.,\n",
       "       2., 1., 1., 2., 2., 2., 2., 2., 2., 2., 2.])"
      ]
     },
     "execution_count": 44,
     "metadata": {},
     "output_type": "execute_result"
    }
   ],
   "source": [
    "yhat_SVM"
   ]
  },
  {
   "cell_type": "markdown",
   "metadata": {},
   "source": [
    "The SVM model fails to classify the patients. Instead, the model predicts every patient having a CN or MCI diagnosis as shown above.\n",
    "\n",
    "Consequently, we will try a neural network."
   ]
  },
  {
   "cell_type": "markdown",
   "metadata": {},
   "source": [
    "Neural network\n",
    "We will fix the value of alpha to 1 and then test several architectures in order to find the netword that maximize the recall of the Alzheimer diagnosis (recall for DXCHANGE value 3.0)."
   ]
  },
  {
   "cell_type": "code",
   "execution_count": 45,
   "metadata": {},
   "outputs": [],
   "source": [
    "X_train, X_cv, y_train, y_cv = train_test_split( X_train, y_train, test_size=0.2, random_state=4)"
   ]
  },
  {
   "cell_type": "markdown",
   "metadata": {},
   "source": [
    "The first type of architecture is composed of 2-4 layers with the same number of neurons."
   ]
  },
  {
   "cell_type": "code",
   "execution_count": 46,
   "metadata": {},
   "outputs": [
    {
     "name": "stdout",
     "output_type": "stream",
     "text": [
      "alpha =  1   ls = ( 8 ,  8 )  :   0.458955223880597\n",
      "              precision    recall  f1-score   support\n",
      "\n",
      "         1.0       0.41      0.46      0.43        97\n",
      "         2.0       0.51      0.63      0.56       123\n",
      "         3.0       0.14      0.02      0.04        48\n",
      "\n",
      "    accuracy                           0.46       268\n",
      "   macro avg       0.35      0.37      0.34       268\n",
      "weighted avg       0.41      0.46      0.42       268\n",
      "\n",
      "\n",
      "alpha =  1   ls = ( 8 ,  8 ,  8 )  :   0.39925373134328357\n",
      "              precision    recall  f1-score   support\n",
      "\n",
      "         1.0       0.37      0.44      0.40        97\n",
      "         2.0       0.44      0.52      0.48       123\n",
      "         3.0       0.00      0.00      0.00        48\n",
      "\n",
      "    accuracy                           0.40       268\n",
      "   macro avg       0.27      0.32      0.29       268\n",
      "weighted avg       0.34      0.40      0.37       268\n",
      "\n",
      "\n",
      "alpha =  1   ls = ( 8 ,  8 ,  8 ,  8 )  :   0.44029850746268656\n",
      "              precision    recall  f1-score   support\n",
      "\n",
      "         1.0       0.38      0.43      0.40        97\n",
      "         2.0       0.49      0.60      0.54       123\n",
      "         3.0       0.40      0.04      0.08        48\n",
      "\n",
      "    accuracy                           0.44       268\n",
      "   macro avg       0.42      0.36      0.34       268\n",
      "weighted avg       0.43      0.44      0.41       268\n",
      "\n",
      "\n",
      "alpha =  1   ls = ( 16 ,  16 )  :   0.4291044776119403\n",
      "              precision    recall  f1-score   support\n",
      "\n",
      "         1.0       0.37      0.41      0.39        97\n",
      "         2.0       0.49      0.57      0.53       123\n",
      "         3.0       0.29      0.10      0.15        48\n",
      "\n",
      "    accuracy                           0.43       268\n",
      "   macro avg       0.38      0.36      0.36       268\n",
      "weighted avg       0.41      0.43      0.41       268\n",
      "\n",
      "\n",
      "alpha =  1   ls = ( 16 ,  16 ,  16 )  :   0.44029850746268656\n",
      "              precision    recall  f1-score   support\n",
      "\n",
      "         1.0       0.42      0.54      0.47        97\n",
      "         2.0       0.49      0.51      0.50       123\n",
      "         3.0       0.20      0.06      0.10        48\n",
      "\n",
      "    accuracy                           0.44       268\n",
      "   macro avg       0.37      0.37      0.36       268\n",
      "weighted avg       0.41      0.44      0.42       268\n",
      "\n",
      "\n",
      "alpha =  1   ls = ( 16 ,  16 ,  16 ,  16 )  :   0.43656716417910446\n",
      "              precision    recall  f1-score   support\n",
      "\n",
      "         1.0       0.39      0.43      0.41        97\n",
      "         2.0       0.50      0.60      0.54       123\n",
      "         3.0       0.08      0.02      0.03        48\n",
      "\n",
      "    accuracy                           0.44       268\n",
      "   macro avg       0.32      0.35      0.33       268\n",
      "weighted avg       0.38      0.44      0.40       268\n",
      "\n",
      "\n",
      "alpha =  1   ls = ( 32 ,  32 )  :   0.4552238805970149\n",
      "              precision    recall  f1-score   support\n",
      "\n",
      "         1.0       0.41      0.51      0.45        97\n",
      "         2.0       0.52      0.51      0.52       123\n",
      "         3.0       0.36      0.21      0.26        48\n",
      "\n",
      "    accuracy                           0.46       268\n",
      "   macro avg       0.43      0.41      0.41       268\n",
      "weighted avg       0.45      0.46      0.45       268\n",
      "\n",
      "\n",
      "alpha =  1   ls = ( 32 ,  32 ,  32 )  :   0.39552238805970147\n",
      "              precision    recall  f1-score   support\n",
      "\n",
      "         1.0       0.37      0.42      0.40        97\n",
      "         2.0       0.47      0.49      0.48       123\n",
      "         3.0       0.17      0.10      0.13        48\n",
      "\n",
      "    accuracy                           0.40       268\n",
      "   macro avg       0.34      0.34      0.33       268\n",
      "weighted avg       0.38      0.40      0.39       268\n",
      "\n",
      "\n",
      "alpha =  1   ls = ( 32 ,  32 ,  32 ,  32 )  :   0.40298507462686567\n",
      "              precision    recall  f1-score   support\n",
      "\n",
      "         1.0       0.40      0.46      0.43        97\n",
      "         2.0       0.47      0.47      0.47       123\n",
      "         3.0       0.16      0.10      0.12        48\n",
      "\n",
      "    accuracy                           0.40       268\n",
      "   macro avg       0.34      0.35      0.34       268\n",
      "weighted avg       0.39      0.40      0.39       268\n",
      "\n",
      "\n",
      "alpha =  1   ls = ( 64 ,  64 )  :   0.39552238805970147\n",
      "              precision    recall  f1-score   support\n",
      "\n",
      "         1.0       0.34      0.34      0.34        97\n",
      "         2.0       0.47      0.56      0.51       123\n",
      "         3.0       0.16      0.08      0.11        48\n",
      "\n",
      "    accuracy                           0.40       268\n",
      "   macro avg       0.32      0.33      0.32       268\n",
      "weighted avg       0.37      0.40      0.38       268\n",
      "\n",
      "\n",
      "alpha =  1   ls = ( 64 ,  64 ,  64 )  :   0.3917910447761194\n",
      "              precision    recall  f1-score   support\n",
      "\n",
      "         1.0       0.40      0.39      0.40        97\n",
      "         2.0       0.43      0.51      0.47       123\n",
      "         3.0       0.14      0.08      0.11        48\n",
      "\n",
      "    accuracy                           0.39       268\n",
      "   macro avg       0.33      0.33      0.32       268\n",
      "weighted avg       0.37      0.39      0.38       268\n",
      "\n",
      "\n",
      "alpha =  1   ls = ( 64 ,  64 ,  64 ,  64 )  :   0.4291044776119403\n",
      "              precision    recall  f1-score   support\n",
      "\n",
      "         1.0       0.40      0.41      0.41        97\n",
      "         2.0       0.49      0.57      0.52       123\n",
      "         3.0       0.21      0.10      0.14        48\n",
      "\n",
      "    accuracy                           0.43       268\n",
      "   macro avg       0.36      0.36      0.36       268\n",
      "weighted avg       0.41      0.43      0.41       268\n",
      "\n",
      "\n"
     ]
    }
   ],
   "source": [
    "for ls in [8, 16, 32, 64] :\n",
    "    # 2 layers\n",
    "    clf = MLPClassifier(hidden_layer_sizes=(ls,ls), activation='tanh', solver='adam',\n",
    "                        alpha=alpha, random_state=1, max_iter = 1000)\n",
    "    clf.fit(X_train, y_train)\n",
    "    print(\"alpha = \", alpha, \"  ls = (\", ls, \", \", ls, \")  :  \", clf.score(X_cv, y_cv))\n",
    "    print (classification_report(y_cv, clf.predict(X_cv)))\n",
    "    print()\n",
    "\n",
    "    # 3 layers\n",
    "    clf = MLPClassifier(hidden_layer_sizes=(ls,ls,ls), activation='tanh', solver='adam',\n",
    "                        alpha=alpha, random_state=1, max_iter = 1000)\n",
    "    clf.fit(X_train, y_train)\n",
    "    print(\"alpha = \", alpha, \"  ls = (\", ls, \", \", ls, \", \", ls, \")  :  \", clf.score(X_cv, y_cv))\n",
    "    print (classification_report(y_cv, clf.predict(X_cv)))\n",
    "    print()\n",
    "\n",
    "    # 4 layers\n",
    "    clf = MLPClassifier(hidden_layer_sizes=(ls,ls,ls,ls), activation='tanh', solver='adam',\n",
    "                        alpha=alpha, random_state=1, max_iter = 800)\n",
    "    clf.fit(X_train, y_train)\n",
    "    print(\"alpha = \", alpha, \"  ls = (\", ls, \", \", ls, \", \", ls, \", \", ls, \")  :  \", clf.score(X_cv, y_cv))\n",
    "    print (classification_report(y_cv, clf.predict(X_cv)))\n",
    "    print()"
   ]
  },
  {
   "cell_type": "markdown",
   "metadata": {},
   "source": [
    "The second type of architecture is composed of 2-4 layers with an increasing number of neurons."
   ]
  },
  {
   "cell_type": "code",
   "execution_count": 47,
   "metadata": {},
   "outputs": [
    {
     "name": "stdout",
     "output_type": "stream",
     "text": [
      "alpha =  1   ls = ( 8 ,  8 )  :   0.47761194029850745\n",
      "              precision    recall  f1-score   support\n",
      "\n",
      "         1.0       0.43      0.48      0.46        97\n",
      "         2.0       0.53      0.63      0.58       123\n",
      "         3.0       0.27      0.06      0.10        48\n",
      "\n",
      "    accuracy                           0.48       268\n",
      "   macro avg       0.41      0.39      0.38       268\n",
      "weighted avg       0.45      0.48      0.45       268\n",
      "\n",
      "\n",
      "alpha =  1   ls = ( 4.0 ,  8 ,  16 )  :   0.458955223880597\n",
      "              precision    recall  f1-score   support\n",
      "\n",
      "         1.0       0.41      0.45      0.43        97\n",
      "         2.0       0.49      0.64      0.56       123\n",
      "         3.0       0.00      0.00      0.00        48\n",
      "\n",
      "    accuracy                           0.46       268\n",
      "   macro avg       0.30      0.37      0.33       268\n",
      "weighted avg       0.37      0.46      0.41       268\n",
      "\n",
      "\n"
     ]
    },
    {
     "name": "stderr",
     "output_type": "stream",
     "text": [
      "C:\\Users\\Geoffrey\\Anaconda3\\lib\\site-packages\\sklearn\\metrics\\_classification.py:1272: UndefinedMetricWarning: Precision and F-score are ill-defined and being set to 0.0 in labels with no predicted samples. Use `zero_division` parameter to control this behavior.\n",
      "  _warn_prf(average, modifier, msg_start, len(result))\n"
     ]
    },
    {
     "name": "stdout",
     "output_type": "stream",
     "text": [
      "alpha =  1   ls = ( 4.0 ,  8 ,  12.0 ,  16 )  :   0.48134328358208955\n",
      "              precision    recall  f1-score   support\n",
      "\n",
      "         1.0       0.43      0.49      0.46        97\n",
      "         2.0       0.52      0.66      0.58       123\n",
      "         3.0       0.00      0.00      0.00        48\n",
      "\n",
      "    accuracy                           0.48       268\n",
      "   macro avg       0.32      0.38      0.35       268\n",
      "weighted avg       0.39      0.48      0.43       268\n",
      "\n",
      "\n"
     ]
    },
    {
     "name": "stderr",
     "output_type": "stream",
     "text": [
      "C:\\Users\\Geoffrey\\Anaconda3\\lib\\site-packages\\sklearn\\metrics\\_classification.py:1272: UndefinedMetricWarning: Precision and F-score are ill-defined and being set to 0.0 in labels with no predicted samples. Use `zero_division` parameter to control this behavior.\n",
      "  _warn_prf(average, modifier, msg_start, len(result))\n"
     ]
    },
    {
     "name": "stdout",
     "output_type": "stream",
     "text": [
      "alpha =  1   ls = ( 16 ,  16 )  :   0.43656716417910446\n",
      "              precision    recall  f1-score   support\n",
      "\n",
      "         1.0       0.44      0.46      0.45        97\n",
      "         2.0       0.48      0.56      0.51       123\n",
      "         3.0       0.15      0.06      0.09        48\n",
      "\n",
      "    accuracy                           0.44       268\n",
      "   macro avg       0.35      0.36      0.35       268\n",
      "weighted avg       0.40      0.44      0.42       268\n",
      "\n",
      "\n",
      "alpha =  1   ls = ( 8.0 ,  16 ,  32 )  :   0.4626865671641791\n",
      "              precision    recall  f1-score   support\n",
      "\n",
      "         1.0       0.41      0.54      0.46        97\n",
      "         2.0       0.53      0.57      0.55       123\n",
      "         3.0       0.22      0.04      0.07        48\n",
      "\n",
      "    accuracy                           0.46       268\n",
      "   macro avg       0.39      0.38      0.36       268\n",
      "weighted avg       0.43      0.46      0.43       268\n",
      "\n",
      "\n",
      "alpha =  1   ls = ( 8.0 ,  16 ,  24.0 ,  32 )  :   0.4626865671641791\n",
      "              precision    recall  f1-score   support\n",
      "\n",
      "         1.0       0.42      0.53      0.47        97\n",
      "         2.0       0.50      0.59      0.54       123\n",
      "         3.0       0.00      0.00      0.00        48\n",
      "\n",
      "    accuracy                           0.46       268\n",
      "   macro avg       0.31      0.37      0.34       268\n",
      "weighted avg       0.38      0.46      0.42       268\n",
      "\n",
      "\n"
     ]
    },
    {
     "name": "stderr",
     "output_type": "stream",
     "text": [
      "C:\\Users\\Geoffrey\\Anaconda3\\lib\\site-packages\\sklearn\\metrics\\_classification.py:1272: UndefinedMetricWarning: Precision and F-score are ill-defined and being set to 0.0 in labels with no predicted samples. Use `zero_division` parameter to control this behavior.\n",
      "  _warn_prf(average, modifier, msg_start, len(result))\n"
     ]
    },
    {
     "name": "stdout",
     "output_type": "stream",
     "text": [
      "alpha =  1   ls = ( 32 ,  32 )  :   0.41044776119402987\n",
      "              precision    recall  f1-score   support\n",
      "\n",
      "         1.0       0.40      0.49      0.44        97\n",
      "         2.0       0.49      0.47      0.48       123\n",
      "         3.0       0.14      0.08      0.10        48\n",
      "\n",
      "    accuracy                           0.41       268\n",
      "   macro avg       0.34      0.35      0.34       268\n",
      "weighted avg       0.39      0.41      0.40       268\n",
      "\n",
      "\n",
      "alpha =  1   ls = ( 16.0 ,  32 ,  64 )  :   0.44402985074626866\n",
      "              precision    recall  f1-score   support\n",
      "\n",
      "         1.0       0.39      0.47      0.43        97\n",
      "         2.0       0.51      0.57      0.54       123\n",
      "         3.0       0.25      0.06      0.10        48\n",
      "\n",
      "    accuracy                           0.44       268\n",
      "   macro avg       0.38      0.37      0.35       268\n",
      "weighted avg       0.42      0.44      0.42       268\n",
      "\n",
      "\n",
      "alpha =  1   ls = ( 16.0 ,  32 ,  48.0 ,  64 )  :   0.4626865671641791\n",
      "              precision    recall  f1-score   support\n",
      "\n",
      "         1.0       0.42      0.52      0.47        97\n",
      "         2.0       0.52      0.54      0.53       123\n",
      "         3.0       0.35      0.15      0.21        48\n",
      "\n",
      "    accuracy                           0.46       268\n",
      "   macro avg       0.43      0.40      0.40       268\n",
      "weighted avg       0.45      0.46      0.45       268\n",
      "\n",
      "\n",
      "alpha =  1   ls = ( 64 ,  64 )  :   0.40298507462686567\n",
      "              precision    recall  f1-score   support\n",
      "\n",
      "         1.0       0.37      0.37      0.37        97\n",
      "         2.0       0.47      0.56      0.51       123\n",
      "         3.0       0.14      0.06      0.09        48\n",
      "\n",
      "    accuracy                           0.40       268\n",
      "   macro avg       0.32      0.33      0.32       268\n",
      "weighted avg       0.37      0.40      0.38       268\n",
      "\n",
      "\n",
      "alpha =  1   ls = ( 32.0 ,  64 ,  128 )  :   0.39552238805970147\n",
      "              precision    recall  f1-score   support\n",
      "\n",
      "         1.0       0.39      0.43      0.41        97\n",
      "         2.0       0.48      0.49      0.48       123\n",
      "         3.0       0.12      0.08      0.10        48\n",
      "\n",
      "    accuracy                           0.40       268\n",
      "   macro avg       0.33      0.33      0.33       268\n",
      "weighted avg       0.38      0.40      0.39       268\n",
      "\n",
      "\n",
      "alpha =  1   ls = ( 32.0 ,  64 ,  96.0 ,  128 )  :   0.4141791044776119\n",
      "              precision    recall  f1-score   support\n",
      "\n",
      "         1.0       0.41      0.46      0.43        97\n",
      "         2.0       0.49      0.49      0.49       123\n",
      "         3.0       0.18      0.12      0.15        48\n",
      "\n",
      "    accuracy                           0.41       268\n",
      "   macro avg       0.36      0.36      0.36       268\n",
      "weighted avg       0.40      0.41      0.41       268\n",
      "\n",
      "\n"
     ]
    }
   ],
   "source": [
    "for ls in [8, 16, 32, 64] :\n",
    "    # 2 layers\n",
    "    clf = MLPClassifier(hidden_layer_sizes=(ls,ls*2), activation='tanh', solver='adam',\n",
    "                        alpha=alpha, random_state=1, max_iter = 1000)\n",
    "    clf.fit(X_train, y_train)\n",
    "    print(\"alpha = \", alpha, \"  ls = (\", ls, \", \", ls, \")  :  \", clf.score(X_cv, y_cv))\n",
    "    print (classification_report(y_cv, clf.predict(X_cv)))\n",
    "    print()\n",
    "\n",
    "    # 3 layers\n",
    "    clf = MLPClassifier(hidden_layer_sizes=(int(ls/2),ls,ls*2), activation='tanh', solver='adam',\n",
    "                        alpha=alpha, random_state=1, max_iter = 1000)\n",
    "    clf.fit(X_train, y_train)\n",
    "    print(\"alpha = \", alpha, \"  ls = (\", ls/2, \", \", ls, \", \", ls*2, \")  :  \", clf.score(X_cv, y_cv))\n",
    "    print (classification_report(y_cv, clf.predict(X_cv)))\n",
    "    print()\n",
    "\n",
    "    # 4 layers\n",
    "    clf = MLPClassifier(hidden_layer_sizes=(int(ls/2),ls,int(ls*1.5),ls*2), activation='tanh', solver='adam',\n",
    "                        alpha=alpha, random_state=1, max_iter = 800)\n",
    "    clf.fit(X_train, y_train)\n",
    "    print(\"alpha = \", alpha, \"  ls = (\", ls/2, \", \", ls, \", \", ls*1.5, \", \", ls*2, \")  :  \", clf.score(X_cv, y_cv))\n",
    "    print (classification_report(y_cv, clf.predict(X_cv)))\n",
    "    print()"
   ]
  },
  {
   "cell_type": "markdown",
   "metadata": {},
   "source": [
    "A network with 4 layers (16,32,48,64) seems to be the best one for accuracy and the targeted objective."
   ]
  },
  {
   "cell_type": "code",
   "execution_count": 48,
   "metadata": {},
   "outputs": [
    {
     "name": "stdout",
     "output_type": "stream",
     "text": [
      "alpha =  1   ls = ( 16 ,  32 ,  64 )   Accuracy : 0.4221556886227545\n",
      "              precision    recall  f1-score   support\n",
      "\n",
      "         1.0       0.38      0.38      0.38       125\n",
      "         2.0       0.47      0.55      0.50       155\n",
      "         3.0       0.30      0.15      0.20        54\n",
      "\n",
      "    accuracy                           0.42       334\n",
      "   macro avg       0.38      0.36      0.36       334\n",
      "weighted avg       0.41      0.42      0.41       334\n",
      "\n"
     ]
    }
   ],
   "source": [
    "alpha = 1\n",
    "ls = 32\n",
    "clf = MLPClassifier(hidden_layer_sizes=(int(ls/2), ls, int(ls*1.5), ls*2), activation='tanh', solver='adam',\n",
    "                            alpha=alpha, random_state=1, max_iter = 1000)\n",
    "clf.fit(X_train, y_train)\n",
    "print(\"alpha = \", alpha, \"  ls = (\", int(ls/2), \", \", ls, \", \", int(ls*2), \")  \", \"Accuracy :\", clf.score(X_test, y_test))\n",
    "print (classification_report(y_test, clf.predict(X_test)))"
   ]
  },
  {
   "cell_type": "markdown",
   "metadata": {},
   "source": [
    "The purpose of the model is, of course, to have the best possible accuracy but also to maximize the recall of the Alzheimer diagnosis. After, trying lots of architectures, a 4 layers network with a growing number of neurons seem to be the most accurate one. While the network achieves a 42,21% accuracy, it is however not as good to predict Alzheimer disease. Indeed, the model is only able to identify 15% of the patients that have Alzheimer."
   ]
  },
  {
   "cell_type": "markdown",
   "metadata": {},
   "source": [
    "# Part 4: AD versus CN versus MCI in 3 years, with longitudinal data\n",
    "\n",
    "This part is relatively similar to the precedent, except that instead of using only one visit in the past to predict the diagnosis in 3 years, you are welcome to used longitudinal measurements per individual, therefore use all the past visits of the individual to predict the diagnosis outcome in 3 years.\n",
    "\n",
    "NB: You can reproduce the experiments by choosing other temporal horizons such as 2, 4 or 5 years."
   ]
  },
  {
   "cell_type": "markdown",
   "metadata": {},
   "source": [
    "For this part, we have to first select patients that had been multiple times to the doctor through at least 4 years."
   ]
  },
  {
   "cell_type": "code",
   "execution_count": 49,
   "metadata": {},
   "outputs": [],
   "source": [
    "### Find every patients that went to the doctor on 3 occasions\n",
    "# (bl, m06, m12) before the prediction time\n",
    "m48 = df[df.VISCODE == 'm48']\n",
    "rid = m48['RID'].to_numpy()\n",
    "\n",
    "for i in ['m12', 'm06', 'bl'] :\n",
    "    temp = df[df.VISCODE == i]\n",
    "    rid = np.intersect1d(rid, temp['RID'].to_numpy())"
   ]
  },
  {
   "cell_type": "markdown",
   "metadata": {},
   "source": [
    "Now, we can remove all the patients that don't belong to this list from the original dataset and replace the DXCHANGE value of the remaining patients by their DXCHANGE value at m48 time."
   ]
  },
  {
   "cell_type": "code",
   "execution_count": 50,
   "metadata": {},
   "outputs": [],
   "source": [
    "df4 = df[df.VISCODE == 'bl']\n",
    "df4 = df4[['RID'] + selected_vars]\n",
    "df4 = df4[df4['RID'].isin(rid)]\n",
    "df4 = df4.set_index('RID')"
   ]
  },
  {
   "cell_type": "code",
   "execution_count": 51,
   "metadata": {},
   "outputs": [],
   "source": [
    "m48 = m48[m48['RID'].isin(rid)]\n",
    "m48 = m48.set_index('RID')\n",
    "df4['DXCHANGE'] = m48['DXCHANGE'].to_numpy()"
   ]
  },
  {
   "cell_type": "markdown",
   "metadata": {},
   "source": [
    "Dataset is then cleaned in a similar way than in the previous parts."
   ]
  },
  {
   "cell_type": "code",
   "execution_count": 52,
   "metadata": {},
   "outputs": [],
   "source": [
    "df4 = df4.drop(['PTETHCAT', 'PTRACCAT'], axis=1)\n",
    "df4['PTEDUCAT'] = df4['PTEDUCAT'].apply(lambda x: 11 if x<12 else x)\n",
    "df4['PTMARRY'] = df4['PTMARRY'].replace(to_replace=['Divorced','Married', 'Never married', 'Widowed'], value=[0,1,0,0])\n",
    "df4 = df4[df4.PTMARRY != 'Unknown']\n",
    "df4 = df4.drop(['PIB'], axis=1)\n",
    "df4 = df4.fillna(df4.mean())"
   ]
  },
  {
   "cell_type": "markdown",
   "metadata": {},
   "source": [
    "Datasets corresponding to the m06 and m12 time are prepared in the same way."
   ]
  },
  {
   "cell_type": "code",
   "execution_count": 53,
   "metadata": {},
   "outputs": [],
   "source": [
    "def prepare_df(init_df, date, rid) :\n",
    "    df = init_df[init_df.VISCODE == date]\n",
    "    df = df[df['RID'].isin(rid)]\n",
    "    df = df.set_index('RID')\n",
    "    df = df[df.PTMARRY != 'Unknown']\n",
    "    df = df.drop(['PIB','VISCODE','PTMARRY'], axis=1)\n",
    "    df.columns = [name + '_' + date for name in df.columns]\n",
    "    df = df.fillna(df.mean())\n",
    "    return df"
   ]
  },
  {
   "cell_type": "code",
   "execution_count": 54,
   "metadata": {},
   "outputs": [],
   "source": [
    "temp_df = df[['RID', 'VISCODE', 'PTMARRY'] + cognitive_tests + imaging_vars + radio_tracers]\n",
    "df_m06 = prepare_df(temp_df, 'm06', rid)\n",
    "df_m12 = prepare_df(temp_df, 'm12', rid)"
   ]
  },
  {
   "cell_type": "markdown",
   "metadata": {},
   "source": [
    "The three datasets are concatenated which means that the columns of df_m06 and df_m12 are added to df4. Consequently, for each patient in our list, we now have, in the datasat df4, the results of their tests and their personnal informations at several time (bl, m06 and m12) as well as their final diagnosis at m48."
   ]
  },
  {
   "cell_type": "code",
   "execution_count": 55,
   "metadata": {},
   "outputs": [],
   "source": [
    "df4 = pd.concat([df4, df_m06, df_m12], sort=False, axis = 1)"
   ]
  },
  {
   "cell_type": "markdown",
   "metadata": {},
   "source": [
    "We can now check for missing values and remove them."
   ]
  },
  {
   "cell_type": "code",
   "execution_count": 56,
   "metadata": {},
   "outputs": [
    {
     "name": "stdout",
     "output_type": "stream",
     "text": [
      "AV45_m06\n"
     ]
    }
   ],
   "source": [
    "for col in df4.columns :\n",
    "    if df4[col].isnull().values.any() :\n",
    "        print(col)"
   ]
  },
  {
   "cell_type": "code",
   "execution_count": 57,
   "metadata": {},
   "outputs": [
    {
     "data": {
      "text/plain": [
       "Series([], Name: AV45_m06, dtype: int64)"
      ]
     },
     "execution_count": 57,
     "metadata": {},
     "output_type": "execute_result"
    }
   ],
   "source": [
    "df_m06['AV45_m06'].value_counts()"
   ]
  },
  {
   "cell_type": "code",
   "execution_count": 58,
   "metadata": {},
   "outputs": [],
   "source": [
    "df4 = df4.drop(['AV45_m06'], axis = 1)"
   ]
  },
  {
   "cell_type": "code",
   "execution_count": 59,
   "metadata": {},
   "outputs": [],
   "source": [
    "### Preparation of the datas\n",
    "X = df4.drop(['DXCHANGE'], axis=1)\n",
    "X = sk.preprocessing.StandardScaler().fit(X).transform(X)\n",
    "Y = df4['DXCHANGE'].values"
   ]
  },
  {
   "cell_type": "code",
   "execution_count": 60,
   "metadata": {},
   "outputs": [],
   "source": [
    "X_train, X_test, y_train, y_test = train_test_split( X, Y, test_size=0.2, random_state=4)"
   ]
  },
  {
   "cell_type": "markdown",
   "metadata": {},
   "source": [
    "We will try the same network than in part 3."
   ]
  },
  {
   "cell_type": "code",
   "execution_count": 62,
   "metadata": {},
   "outputs": [
    {
     "name": "stdout",
     "output_type": "stream",
     "text": [
      "Accuracy on training set :  1.0\n",
      "Accuracy on test set :  0.4536082474226804\n",
      "\n",
      "              precision    recall  f1-score   support\n",
      "\n",
      "         1.0       0.38      0.39      0.39        38\n",
      "         2.0       0.58      0.58      0.58        45\n",
      "         3.0       0.23      0.21      0.22        14\n",
      "\n",
      "    accuracy                           0.45        97\n",
      "   macro avg       0.40      0.40      0.40        97\n",
      "weighted avg       0.45      0.45      0.45        97\n",
      "\n"
     ]
    }
   ],
   "source": [
    "ls = 32\n",
    "clf = MLPClassifier(hidden_layer_sizes=(int(ls/2),ls,int(ls*1.5),ls*2), activation='tanh', solver='adam',\n",
    "                            alpha=1, random_state=1, max_iter = 1000)\n",
    "clf.fit(X_train, y_train)\n",
    "print(\"Accuracy on training set : \", clf.score(X_train, y_train))\n",
    "print(\"Accuracy on test set : \", clf.score(X_test, y_test))\n",
    "print()\n",
    "print (classification_report(y_test, clf.predict(X_test)))"
   ]
  },
  {
   "cell_type": "markdown",
   "metadata": {},
   "source": [
    "The results are a little bit better than in part 3. The training set is in fact very imbalanced and it may be the reason of this bad result.\n",
    "Consequently, we will try a data rebalancing technique."
   ]
  },
  {
   "cell_type": "code",
   "execution_count": 63,
   "metadata": {},
   "outputs": [
    {
     "name": "stdout",
     "output_type": "stream",
     "text": [
      "CN : 163\n",
      "CMI : 173\n",
      "AD : 52\n"
     ]
    }
   ],
   "source": [
    "print(\"CN :\", np.sum(y_train == 1))\n",
    "print(\"CMI :\", np.sum(y_train == 2))\n",
    "print(\"AD :\", np.sum(y_train == 3))"
   ]
  },
  {
   "cell_type": "code",
   "execution_count": 70,
   "metadata": {},
   "outputs": [],
   "source": [
    "### Preparation of the datas\n",
    "X = df4.drop(['DXCHANGE'], axis=1)\n",
    "X = sk.preprocessing.StandardScaler().fit(X).transform(X)\n",
    "Y = df4['DXCHANGE'].values\n",
    "\n",
    "X_train, X_test, y_train, y_test = train_test_split( X, Y, test_size=0.2, random_state=4)"
   ]
  },
  {
   "cell_type": "code",
   "execution_count": 71,
   "metadata": {},
   "outputs": [],
   "source": [
    "import imblearn as imb"
   ]
  },
  {
   "cell_type": "code",
   "execution_count": 72,
   "metadata": {},
   "outputs": [
    {
     "name": "stderr",
     "output_type": "stream",
     "text": [
      "C:\\Users\\Geoffrey\\Anaconda3\\lib\\site-packages\\sklearn\\utils\\deprecation.py:87: FutureWarning: Function safe_indexing is deprecated; safe_indexing is deprecated in version 0.22 and will be removed in version 0.24.\n",
      "  warnings.warn(msg, category=FutureWarning)\n"
     ]
    }
   ],
   "source": [
    "from imblearn.over_sampling import ADASYN\n",
    "adasyn = ADASYN(ratio='minority')\n",
    "X_train_re, y_train_re = adasyn.fit_sample(X_train, y_train)"
   ]
  },
  {
   "cell_type": "code",
   "execution_count": 73,
   "metadata": {},
   "outputs": [
    {
     "name": "stdout",
     "output_type": "stream",
     "text": [
      "CN : 163\n",
      "CMI : 173\n",
      "AD : 188\n"
     ]
    }
   ],
   "source": [
    "print(\"CN :\", np.sum(y_train_re == 1))\n",
    "print(\"CMI :\", np.sum(y_train_re == 2))\n",
    "print(\"AD :\", np.sum(y_train_re == 3))"
   ]
  },
  {
   "cell_type": "markdown",
   "metadata": {},
   "source": [
    "There are now way more AD examples in our training set."
   ]
  },
  {
   "cell_type": "code",
   "execution_count": 74,
   "metadata": {},
   "outputs": [
    {
     "name": "stdout",
     "output_type": "stream",
     "text": [
      "alpha =  1   ls = ( 8 ,  8 )  :   0.4536082474226804\n",
      "              precision    recall  f1-score   support\n",
      "\n",
      "         1.0       0.39      0.37      0.38        38\n",
      "         2.0       0.62      0.58      0.60        45\n",
      "         3.0       0.21      0.29      0.24        14\n",
      "\n",
      "    accuracy                           0.45        97\n",
      "   macro avg       0.41      0.41      0.41        97\n",
      "weighted avg       0.47      0.45      0.46        97\n",
      "\n",
      "\n"
     ]
    },
    {
     "name": "stderr",
     "output_type": "stream",
     "text": [
      "C:\\Users\\Geoffrey\\Anaconda3\\lib\\site-packages\\sklearn\\neural_network\\_multilayer_perceptron.py:571: ConvergenceWarning: Stochastic Optimizer: Maximum iterations (1000) reached and the optimization hasn't converged yet.\n",
      "  % self.max_iter, ConvergenceWarning)\n"
     ]
    },
    {
     "name": "stdout",
     "output_type": "stream",
     "text": [
      "alpha =  1   ls = ( 4.0 ,  8 ,  16 )  :   0.4639175257731959\n",
      "              precision    recall  f1-score   support\n",
      "\n",
      "         1.0       0.64      0.37      0.47        38\n",
      "         2.0       0.56      0.51      0.53        45\n",
      "         3.0       0.24      0.57      0.33        14\n",
      "\n",
      "    accuracy                           0.46        97\n",
      "   macro avg       0.48      0.48      0.44        97\n",
      "weighted avg       0.54      0.46      0.48        97\n",
      "\n",
      "\n"
     ]
    },
    {
     "name": "stderr",
     "output_type": "stream",
     "text": [
      "C:\\Users\\Geoffrey\\Anaconda3\\lib\\site-packages\\sklearn\\neural_network\\_multilayer_perceptron.py:571: ConvergenceWarning: Stochastic Optimizer: Maximum iterations (800) reached and the optimization hasn't converged yet.\n",
      "  % self.max_iter, ConvergenceWarning)\n"
     ]
    },
    {
     "name": "stdout",
     "output_type": "stream",
     "text": [
      "alpha =  1   ls = ( 4.0 ,  8 ,  12.0 ,  16 )  :   0.3917525773195876\n",
      "              precision    recall  f1-score   support\n",
      "\n",
      "         1.0       0.37      0.26      0.31        38\n",
      "         2.0       0.52      0.53      0.53        45\n",
      "         3.0       0.17      0.29      0.21        14\n",
      "\n",
      "    accuracy                           0.39        97\n",
      "   macro avg       0.35      0.36      0.35        97\n",
      "weighted avg       0.41      0.39      0.40        97\n",
      "\n",
      "\n",
      "alpha =  1   ls = ( 16 ,  16 )  :   0.4329896907216495\n",
      "              precision    recall  f1-score   support\n",
      "\n",
      "         1.0       0.40      0.37      0.38        38\n",
      "         2.0       0.56      0.51      0.53        45\n",
      "         3.0       0.24      0.36      0.29        14\n",
      "\n",
      "    accuracy                           0.43        97\n",
      "   macro avg       0.40      0.41      0.40        97\n",
      "weighted avg       0.45      0.43      0.44        97\n",
      "\n",
      "\n",
      "alpha =  1   ls = ( 8.0 ,  16 ,  32 )  :   0.4020618556701031\n",
      "              precision    recall  f1-score   support\n",
      "\n",
      "         1.0       0.42      0.39      0.41        38\n",
      "         2.0       0.51      0.42      0.46        45\n",
      "         3.0       0.21      0.36      0.26        14\n",
      "\n",
      "    accuracy                           0.40        97\n",
      "   macro avg       0.38      0.39      0.38        97\n",
      "weighted avg       0.43      0.40      0.41        97\n",
      "\n",
      "\n"
     ]
    },
    {
     "name": "stderr",
     "output_type": "stream",
     "text": [
      "C:\\Users\\Geoffrey\\Anaconda3\\lib\\site-packages\\sklearn\\neural_network\\_multilayer_perceptron.py:571: ConvergenceWarning: Stochastic Optimizer: Maximum iterations (800) reached and the optimization hasn't converged yet.\n",
      "  % self.max_iter, ConvergenceWarning)\n"
     ]
    },
    {
     "name": "stdout",
     "output_type": "stream",
     "text": [
      "alpha =  1   ls = ( 8.0 ,  16 ,  24.0 ,  32 )  :   0.4020618556701031\n",
      "              precision    recall  f1-score   support\n",
      "\n",
      "         1.0       0.36      0.26      0.30        38\n",
      "         2.0       0.51      0.51      0.51        45\n",
      "         3.0       0.25      0.43      0.32        14\n",
      "\n",
      "    accuracy                           0.40        97\n",
      "   macro avg       0.37      0.40      0.38        97\n",
      "weighted avg       0.41      0.40      0.40        97\n",
      "\n",
      "\n",
      "alpha =  1   ls = ( 32 ,  32 )  :   0.44329896907216493\n",
      "              precision    recall  f1-score   support\n",
      "\n",
      "         1.0       0.40      0.37      0.38        38\n",
      "         2.0       0.57      0.53      0.55        45\n",
      "         3.0       0.25      0.36      0.29        14\n",
      "\n",
      "    accuracy                           0.44        97\n",
      "   macro avg       0.41      0.42      0.41        97\n",
      "weighted avg       0.46      0.44      0.45        97\n",
      "\n",
      "\n",
      "alpha =  1   ls = ( 16.0 ,  32 ,  64 )  :   0.4020618556701031\n",
      "              precision    recall  f1-score   support\n",
      "\n",
      "         1.0       0.42      0.37      0.39        38\n",
      "         2.0       0.49      0.51      0.50        45\n",
      "         3.0       0.12      0.14      0.13        14\n",
      "\n",
      "    accuracy                           0.40        97\n",
      "   macro avg       0.34      0.34      0.34        97\n",
      "weighted avg       0.41      0.40      0.41        97\n",
      "\n",
      "\n"
     ]
    },
    {
     "name": "stderr",
     "output_type": "stream",
     "text": [
      "C:\\Users\\Geoffrey\\Anaconda3\\lib\\site-packages\\sklearn\\neural_network\\_multilayer_perceptron.py:571: ConvergenceWarning: Stochastic Optimizer: Maximum iterations (800) reached and the optimization hasn't converged yet.\n",
      "  % self.max_iter, ConvergenceWarning)\n"
     ]
    },
    {
     "name": "stdout",
     "output_type": "stream",
     "text": [
      "alpha =  1   ls = ( 16.0 ,  32 ,  48.0 ,  64 )  :   0.422680412371134\n",
      "              precision    recall  f1-score   support\n",
      "\n",
      "         1.0       0.32      0.29      0.31        38\n",
      "         2.0       0.56      0.56      0.56        45\n",
      "         3.0       0.28      0.36      0.31        14\n",
      "\n",
      "    accuracy                           0.42        97\n",
      "   macro avg       0.39      0.40      0.39        97\n",
      "weighted avg       0.42      0.42      0.42        97\n",
      "\n",
      "\n",
      "alpha =  1   ls = ( 64 ,  64 )  :   0.4742268041237113\n",
      "              precision    recall  f1-score   support\n",
      "\n",
      "         1.0       0.47      0.47      0.47        38\n",
      "         2.0       0.57      0.51      0.54        45\n",
      "         3.0       0.26      0.36      0.30        14\n",
      "\n",
      "    accuracy                           0.47        97\n",
      "   macro avg       0.44      0.45      0.44        97\n",
      "weighted avg       0.49      0.47      0.48        97\n",
      "\n",
      "\n",
      "alpha =  1   ls = ( 32.0 ,  64 ,  128 )  :   0.4329896907216495\n",
      "              precision    recall  f1-score   support\n",
      "\n",
      "         1.0       0.43      0.42      0.43        38\n",
      "         2.0       0.55      0.47      0.51        45\n",
      "         3.0       0.23      0.36      0.28        14\n",
      "\n",
      "    accuracy                           0.43        97\n",
      "   macro avg       0.40      0.41      0.40        97\n",
      "weighted avg       0.46      0.43      0.44        97\n",
      "\n",
      "\n",
      "alpha =  1   ls = ( 32.0 ,  64 ,  96.0 ,  128 )  :   0.4020618556701031\n",
      "              precision    recall  f1-score   support\n",
      "\n",
      "         1.0       0.42      0.39      0.41        38\n",
      "         2.0       0.50      0.47      0.48        45\n",
      "         3.0       0.16      0.21      0.18        14\n",
      "\n",
      "    accuracy                           0.40        97\n",
      "   macro avg       0.36      0.36      0.36        97\n",
      "weighted avg       0.42      0.40      0.41        97\n",
      "\n",
      "\n",
      "alpha =  1   ls = ( 128 ,  128 )  :   0.5154639175257731\n",
      "              precision    recall  f1-score   support\n",
      "\n",
      "         1.0       0.56      0.50      0.53        38\n",
      "         2.0       0.60      0.56      0.57        45\n",
      "         3.0       0.29      0.43      0.34        14\n",
      "\n",
      "    accuracy                           0.52        97\n",
      "   macro avg       0.48      0.49      0.48        97\n",
      "weighted avg       0.54      0.52      0.52        97\n",
      "\n",
      "\n",
      "alpha =  1   ls = ( 64.0 ,  128 ,  256 )  :   0.4639175257731959\n",
      "              precision    recall  f1-score   support\n",
      "\n",
      "         1.0       0.41      0.34      0.37        38\n",
      "         2.0       0.54      0.58      0.56        45\n",
      "         3.0       0.35      0.43      0.39        14\n",
      "\n",
      "    accuracy                           0.46        97\n",
      "   macro avg       0.43      0.45      0.44        97\n",
      "weighted avg       0.46      0.46      0.46        97\n",
      "\n",
      "\n",
      "alpha =  1   ls = ( 64.0 ,  128 ,  192.0 ,  256 )  :   0.4639175257731959\n",
      "              precision    recall  f1-score   support\n",
      "\n",
      "         1.0       0.38      0.39      0.39        38\n",
      "         2.0       0.56      0.56      0.56        45\n",
      "         3.0       0.38      0.36      0.37        14\n",
      "\n",
      "    accuracy                           0.46        97\n",
      "   macro avg       0.44      0.44      0.44        97\n",
      "weighted avg       0.46      0.46      0.46        97\n",
      "\n",
      "\n"
     ]
    }
   ],
   "source": [
    "for ls in [8, 16, 32, 64, 128] :\n",
    "    # 2 layers\n",
    "    clf = MLPClassifier(hidden_layer_sizes=(ls,ls*2), activation='tanh', solver='adam',\n",
    "                        alpha=alpha, random_state=1, max_iter = 1000)\n",
    "    clf.fit(X_train_re, y_train_re)\n",
    "    print(\"alpha = \", alpha, \"  ls = (\", ls, \", \", ls, \")  :  \", clf.score(X_test, y_test))\n",
    "    print (classification_report(y_test, clf.predict(X_test)))\n",
    "    print()\n",
    "\n",
    "    # 3 layers\n",
    "    clf = MLPClassifier(hidden_layer_sizes=(int(ls/2),ls,ls*2), activation='tanh', solver='adam',\n",
    "                        alpha=alpha, random_state=1, max_iter = 1000)\n",
    "    clf.fit(X_train_re, y_train_re)\n",
    "    print(\"alpha = \", alpha, \"  ls = (\", ls/2, \", \", ls, \", \", ls*2, \")  :  \", clf.score(X_test, y_test))\n",
    "    print (classification_report(y_test, clf.predict(X_test)))\n",
    "    print()\n",
    "\n",
    "    # 4 layers\n",
    "    clf = MLPClassifier(hidden_layer_sizes=(int(ls/2),ls,int(ls*1.5),ls*2), activation='tanh', solver='adam',\n",
    "                        alpha=alpha, random_state=1, max_iter = 800)\n",
    "    clf.fit(X_train_re, y_train_re)\n",
    "    print(\"alpha = \", alpha, \"  ls = (\", ls/2, \", \", ls, \", \", ls*1.5, \", \", ls*2, \")  :  \", clf.score(X_test, y_test))\n",
    "    print (classification_report(y_test, clf.predict(X_test)))\n",
    "    print()"
   ]
  },
  {
   "cell_type": "markdown",
   "metadata": {},
   "source": [
    "One of the network that maximizes our targets is a 4-layers (16,32,48,64) network."
   ]
  },
  {
   "cell_type": "code",
   "execution_count": 69,
   "metadata": {},
   "outputs": [
    {
     "name": "stdout",
     "output_type": "stream",
     "text": [
      "Accuracy on test set :  0.4536082474226804\n",
      "\n",
      "              precision    recall  f1-score   support\n",
      "\n",
      "         1.0       0.44      0.47      0.46        38\n",
      "         2.0       0.62      0.51      0.56        45\n",
      "         3.0       0.16      0.21      0.18        14\n",
      "\n",
      "    accuracy                           0.45        97\n",
      "   macro avg       0.41      0.40      0.40        97\n",
      "weighted avg       0.48      0.45      0.47        97\n",
      "\n"
     ]
    }
   ],
   "source": [
    "clf = MLPClassifier(hidden_layer_sizes=(16,32,48,64), activation='tanh', solver='adam',\n",
    "                            alpha=1, random_state=1, max_iter = 1000)\n",
    "clf.fit(X_train_re, y_train_re)\n",
    "print(\"Accuracy on test set : \", clf.score(X_test, y_test))\n",
    "print()\n",
    "print (classification_report(y_test, clf.predict(X_test)))"
   ]
  },
  {
   "cell_type": "markdown",
   "metadata": {},
   "source": [
    "Thanks to the synthetic datas, with the same architecture network, a better result was achieved on the test set but it's not always the case. Unfortunately, this is very dependent to the composition of the training set and the test set as well as the new datas generated. Sometimes, the network is more accurate and sometimes it's not. We can still conclude that taking into account the past of the patient may improve the accuracy of the diagnosis (results are way better than in part 3).\n",
    "\n",
    "Even if it's not in the notebook, the test set accuracy was often way lower than the training set accuracy of the several neural networks used. Most of the time, the number of patients was rather low, between 500 and 800. So maybe, increasing the number of samples in the dataset would help to have a better accuracy. "
   ]
  }
 ],
 "metadata": {
  "anaconda-cloud": {},
  "kernelspec": {
   "display_name": "Python 3",
   "language": "python",
   "name": "python3"
  },
  "language_info": {
   "codemirror_mode": {
    "name": "ipython",
    "version": 3
   },
   "file_extension": ".py",
   "mimetype": "text/x-python",
   "name": "python",
   "nbconvert_exporter": "python",
   "pygments_lexer": "ipython3",
   "version": "3.7.4"
  }
 },
 "nbformat": 4,
 "nbformat_minor": 1
}
